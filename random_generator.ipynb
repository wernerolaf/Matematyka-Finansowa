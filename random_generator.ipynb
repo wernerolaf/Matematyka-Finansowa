{
 "cells": [
  {
   "cell_type": "code",
   "execution_count": 2,
   "metadata": {},
   "outputs": [],
   "source": [
    "import numpy as np\n",
    "import math\n",
    "import matplotlib.pyplot as plt\n",
    "import seaborn as sns\n",
    "from scipy.special import erf\n",
    "from scipy.special import betainc"
   ]
  },
  {
   "cell_type": "code",
   "execution_count": 199,
   "metadata": {},
   "outputs": [],
   "source": [
    "class generator:\n",
    "    def __init__(self,seed,const,mod,next_seed=True):\n",
    "        self.start_seed=seed\n",
    "        self.seed=seed\n",
    "        self.const=const\n",
    "        self.mod=mod\n",
    "        self.k=len(const)-1\n",
    "        self.next_seed=next_seed\n",
    "        \n",
    "    def restart(self):\n",
    "        self.seed=self.start_seed\n",
    "    \n",
    "    \n",
    "    def generate(self,n):\n",
    "        random=np.zeros(n+self.k,dtype=int)\n",
    "        random[0:self.k]=self.seed\n",
    "        \n",
    "        for i in range(n):\n",
    "            random[self.k+i]=int(sum(self.const[1:]*random[i:self.k+i])+self.const[0]) % self.mod\n",
    "        \n",
    "        \n",
    "        if(self.next_seed):\n",
    "            self.seed=random[n:self.k+n]\n",
    "            \n",
    "        return random[self.k:]\n",
    "    \n",
    "    def uniform(self,n,left=0,right=1):\n",
    "        return (self.generate(n)/(self.mod-1))*(right-left)+left\n",
    "    \n",
    "    def elimination(self,n,g,left_g,right_g,max_g):\n",
    "        random=np.zeros(n)\n",
    "        for i in range(n):\n",
    "            while(True):\n",
    "                X=self.uniform(1,left_g,right_g)[0]\n",
    "                Y=self.uniform(1,0,max_g)[0]\n",
    "                if(Y<=g(X)):\n",
    "                    random[i]=X\n",
    "                    break\n",
    "        \n",
    "        return random\n",
    "    \n",
    "    def elimination_mod(self,n,g,max_g,a,max_rand):\n",
    "        random=np.zeros(n)\n",
    "        for i in range(n):\n",
    "            while(True):\n",
    "                X=max_rand(1)[0]\n",
    "                Y=self.uniform(1)[0]\n",
    "                if(Y<=g(X)/(a*max_g(X))):\n",
    "                    random[i]=X\n",
    "                    break\n",
    "        \n",
    "        return random\n",
    "    \n",
    "    \n",
    "    def normal(self,n,u=0,sigma=1,eps=10**-12):\n",
    "        U1=self.uniform(n)\n",
    "        U2=self.uniform(n)\n",
    "        Z=np.sqrt(-2*(np.log(U1+eps)-eps))*np.cos(2*math.pi*U2)\n",
    "        return Z*sigma+u\n",
    "    \n",
    "    def binomial(self,n,n_p,p):\n",
    "        random=np.zeros(n,dtype=int)\n",
    "        for i in range(n):\n",
    "            X=0\n",
    "            for j in range(n_p):\n",
    "                U=self.uniform(1)[0]\n",
    "                if U<p:\n",
    "                    X+=1\n",
    "            random[i]=X\n",
    "        \n",
    "        return random\n",
    "    \n",
    "    def poisson(self,n,lambd=1,eps=10**-12):\n",
    "        random=np.zeros(n,dtype=int)\n",
    "        for i in range(n):\n",
    "            X=0\n",
    "            t=self.exponential(1,lambd=lambd,eps=eps)[0]\n",
    "            while(t<=1):\n",
    "                t+=self.exponential(1,lambd=lambd,eps=eps)[0]\n",
    "                X+=1\n",
    "            \n",
    "            random[i]=X\n",
    "        \n",
    "        return random\n",
    "        \n",
    "    def poisson2(self,n,lambd=1):\n",
    "        def g(x):\n",
    "            return math.e**(-1*lambd)*lambd**x/math.factorial(x)\n",
    "        \n",
    "        random=np.zeros(n,dtype=int)\n",
    "        G=[g(x) for x in range(5)]\n",
    "        calc=len(G)\n",
    "        for i in range(n):\n",
    "            U=self.uniform(1)[0]\n",
    "            if U==0:\n",
    "                random[i]=0\n",
    "            \n",
    "            cum=0\n",
    "            j=0\n",
    "            while(True):\n",
    "                if j<calc:\n",
    "                    temp=G[j]\n",
    "                else:\n",
    "                    G.append(g(j))\n",
    "                    calc+=1\n",
    "                \n",
    "                if(U>cum and U<=cum+temp):\n",
    "                    random[i]=j\n",
    "                    break\n",
    "                \n",
    "                cum+=temp\n",
    "                j+=1\n",
    "                \n",
    "        return random\n",
    "    \n",
    "    \n",
    "    def exponential(self,n,lambd=1,eps=10**-12):\n",
    "        U=self.uniform(n)\n",
    "        return(-1/lambd*(np.log(1-U+eps)-eps))\n",
    "    \n",
    "    def discrete(self,n,x,p):\n",
    "        random=np.zeros(n,dtype=int)\n",
    "        for i in range(n):\n",
    "            U=self.uniform(1)[0]\n",
    "            if U==0:\n",
    "                random[i]=x[0]\n",
    "            \n",
    "            cum=0\n",
    "            j=0\n",
    "            while(True):\n",
    "                temp=p[j]\n",
    "                if(U>cum and U<=cum+temp):\n",
    "                    random[i]=x[j]\n",
    "                    break\n",
    "                \n",
    "                cum+=temp\n",
    "                j+=1\n",
    "                \n",
    "        return random\n",
    "        \n",
    "        "
   ]
  },
  {
   "cell_type": "code",
   "execution_count": 204,
   "metadata": {},
   "outputs": [],
   "source": [
    "gen=generator([13,12],np.array([3,5,7]),117)"
   ]
  },
  {
   "cell_type": "code",
   "execution_count": 205,
   "metadata": {},
   "outputs": [],
   "source": [
    "#zadanie1\n",
    "gen=generator(123,[math.floor(math.e*10**9),math.floor(math.pi*10**9)],2**32)"
   ]
  },
  {
   "cell_type": "code",
   "execution_count": 206,
   "metadata": {},
   "outputs": [],
   "source": [
    "r=gen.uniform(10000)"
   ]
  },
  {
   "cell_type": "code",
   "execution_count": 207,
   "metadata": {},
   "outputs": [
    {
     "data": {
      "text/plain": [
       "(array([ 985.,  974.,  971., 1006., 1054.,  973., 1025., 1034.,  993.,\n",
       "         985.]),\n",
       " array([1.89025654e-04, 1.00148809e-01, 2.00108593e-01, 3.00068377e-01,\n",
       "        4.00028160e-01, 4.99987944e-01, 5.99947728e-01, 6.99907511e-01,\n",
       "        7.99867295e-01, 8.99827079e-01, 9.99786862e-01]),\n",
       " <a list of 10 Patch objects>)"
      ]
     },
     "execution_count": 207,
     "metadata": {},
     "output_type": "execute_result"
    },
    {
     "data": {
      "image/png": "[encoded data removed]",
      "text/plain": [
       "<Figure size 432x288 with 1 Axes>"
      ]
     },
     "metadata": {
      "needs_background": "light"
     },
     "output_type": "display_data"
    }
   ],
   "source": [
    "plt.hist(r)"
   ]
  },
  {
   "cell_type": "code",
   "execution_count": 208,
   "metadata": {},
   "outputs": [],
   "source": [
    "#zadanie2\n",
    "gen.restart()\n",
    "def g(x):\n",
    "    return(1+np.cos(x))/(1+math.e**(-1/2))*(math.e**(x**2/-2))/(math.sqrt(2*math.pi))"
   ]
  },
  {
   "cell_type": "code",
   "execution_count": 209,
   "metadata": {},
   "outputs": [],
   "source": [
    "def normal_g(x):\n",
    "    return((math.e**(x**2/-2))/(math.sqrt(2*math.pi)))"
   ]
  },
  {
   "cell_type": "code",
   "execution_count": 210,
   "metadata": {},
   "outputs": [],
   "source": [
    "r=gen.elimination_mod(10000,g=g,max_g=normal_g,a=2/(1+math.e**(-1/2)),max_rand=gen.normal)"
   ]
  },
  {
   "cell_type": "code",
   "execution_count": 211,
   "metadata": {},
   "outputs": [
    {
     "data": {
      "text/plain": [
       "(array([   2.,    4.,   23.,   85.,  139.,  329.,  585.,  841., 1188.,\n",
       "        1313., 1410., 1335., 1100.,  776.,  457.,  249.,  100.,   42.,\n",
       "          19.,    3.]),\n",
       " array([-2.97768321, -2.68929837, -2.40091353, -2.1125287 , -1.82414386,\n",
       "        -1.53575902, -1.24737418, -0.95898935, -0.67060451, -0.38221967,\n",
       "        -0.09383483,  0.19455001,  0.48293484,  0.77131968,  1.05970452,\n",
       "         1.34808936,  1.63647419,  1.92485903,  2.21324387,  2.50162871,\n",
       "         2.79001355]),\n",
       " <a list of 20 Patch objects>)"
      ]
     },
     "execution_count": 211,
     "metadata": {},
     "output_type": "execute_result"
    },
    {
     "data": {
      "image/png": "[encoded data removed]",
      "text/plain": [
       "<Figure size 432x288 with 1 Axes>"
      ]
     },
     "metadata": {
      "needs_background": "light"
     },
     "output_type": "display_data"
    }
   ],
   "source": [
    "plt.hist(r,bins=20)"
   ]
  },
  {
   "cell_type": "code",
   "execution_count": 212,
   "metadata": {},
   "outputs": [],
   "source": [
    "t=np.linspace(min(r),max(r),10000)"
   ]
  },
  {
   "cell_type": "code",
   "execution_count": 214,
   "metadata": {},
   "outputs": [
    {
     "data": {
      "text/plain": [
       "[<matplotlib.lines.Line2D at 0x7f9286a47890>]"
      ]
     },
     "execution_count": 214,
     "metadata": {},
     "output_type": "execute_result"
    },
    {
     "data": {
      "image/png": "[encoded data removed]",
      "text/plain": [
       "<Figure size 432x288 with 1 Axes>"
      ]
     },
     "metadata": {
      "needs_background": "light"
     },
     "output_type": "display_data"
    }
   ],
   "source": [
    "plt.plot(t,g(t))\n",
    "plt.plot(t,normal_g(t))"
   ]
  },
  {
   "cell_type": "code",
   "execution_count": 215,
   "metadata": {},
   "outputs": [
    {
     "data": {
      "text/plain": [
       "(array([1.379e+03, 0.000e+00, 2.705e+03, 0.000e+00, 2.635e+03, 0.000e+00,\n",
       "        1.862e+03, 0.000e+00, 8.840e+02, 0.000e+00, 0.000e+00, 3.460e+02,\n",
       "        0.000e+00, 1.370e+02, 0.000e+00, 4.500e+01, 0.000e+00, 6.000e+00,\n",
       "        0.000e+00, 1.000e+00]),\n",
       " array([0.  , 0.45, 0.9 , 1.35, 1.8 , 2.25, 2.7 , 3.15, 3.6 , 4.05, 4.5 ,\n",
       "        4.95, 5.4 , 5.85, 6.3 , 6.75, 7.2 , 7.65, 8.1 , 8.55, 9.  ]),\n",
       " <a list of 20 Patch objects>)"
      ]
     },
     "execution_count": 215,
     "metadata": {},
     "output_type": "execute_result"
    },
    {
     "data": {
      "image/png": "[encoded data removed]",
      "text/plain": [
       "<Figure size 432x288 with 1 Axes>"
      ]
     },
     "metadata": {
      "needs_background": "light"
     },
     "output_type": "display_data"
    }
   ],
   "source": [
    "#zadanie 3\n",
    "gen.restart()\n",
    "r=gen.poisson(10000,lambd=2)\n",
    "plt.hist(r,bins=20)"
   ]
  },
  {
   "cell_type": "code",
   "execution_count": 216,
   "metadata": {},
   "outputs": [
    {
     "data": {
      "text/plain": [
       "(array([1.318e+03, 0.000e+00, 2.685e+03, 0.000e+00, 2.756e+03, 0.000e+00,\n",
       "        1.835e+03, 0.000e+00, 8.770e+02, 0.000e+00, 0.000e+00, 3.680e+02,\n",
       "        0.000e+00, 1.090e+02, 0.000e+00, 4.100e+01, 0.000e+00, 1.000e+01,\n",
       "        0.000e+00, 1.000e+00]),\n",
       " array([0.  , 0.45, 0.9 , 1.35, 1.8 , 2.25, 2.7 , 3.15, 3.6 , 4.05, 4.5 ,\n",
       "        4.95, 5.4 , 5.85, 6.3 , 6.75, 7.2 , 7.65, 8.1 , 8.55, 9.  ]),\n",
       " <a list of 20 Patch objects>)"
      ]
     },
     "execution_count": 216,
     "metadata": {},
     "output_type": "execute_result"
    },
    {
     "data": {
      "image/png": "[encoded data removed]",
      "text/plain": [
       "<Figure size 432x288 with 1 Axes>"
      ]
     },
     "metadata": {
      "needs_background": "light"
     },
     "output_type": "display_data"
    }
   ],
   "source": [
    "gen.restart()\n",
    "r=gen.poisson2(10000,lambd=2)\n",
    "plt.hist(r,bins=20)"
   ]
  },
  {
   "cell_type": "code",
   "execution_count": 217,
   "metadata": {},
   "outputs": [],
   "source": [
    "#zadanie 4\n",
    "gen.restart()\n",
    "wh=gen.discrete(10000,[1,2,3],[1/3,1/3,1/3])\n",
    "bi=gen.binomial(sum(wh==1),10,1/3)\n",
    "nor=gen.normal(sum(wh==2))\n",
    "ex=gen.exponential(sum(wh==3))\n",
    "\n"
   ]
  },
  {
   "cell_type": "code",
   "execution_count": 218,
   "metadata": {},
   "outputs": [],
   "source": [
    "tot=np.concatenate([bi,nor,ex],axis=0)"
   ]
  },
  {
   "cell_type": "code",
   "execution_count": 219,
   "metadata": {},
   "outputs": [],
   "source": [
    "t=np.linspace(min(tot),max(tot),10000)"
   ]
  },
  {
   "cell_type": "code",
   "execution_count": 220,
   "metadata": {},
   "outputs": [],
   "source": [
    "tot.sort()"
   ]
  },
  {
   "cell_type": "code",
   "execution_count": 221,
   "metadata": {},
   "outputs": [],
   "source": [
    "x=np.arange(0,10000,1)"
   ]
  },
  {
   "cell_type": "code",
   "execution_count": 222,
   "metadata": {},
   "outputs": [
    {
     "data": {
      "text/plain": [
       "[<matplotlib.lines.Line2D at 0x7f92869c58d0>]"
      ]
     },
     "execution_count": 222,
     "metadata": {},
     "output_type": "execute_result"
    },
    {
     "data": {
      "image/png": "[encoded data removed]",
      "text/plain": [
       "<Figure size 432x288 with 1 Axes>"
      ]
     },
     "metadata": {
      "needs_background": "light"
     },
     "output_type": "display_data"
    }
   ],
   "source": [
    "plt.plot(tot,x/10000)"
   ]
  },
  {
   "cell_type": "code",
   "execution_count": 223,
   "metadata": {},
   "outputs": [],
   "source": [
    "def tot_dys(x):\n",
    "    return(1/3*1/2*(1+erf(x/math.sqrt(2)))+1/3*betainc(10-np.floor(x*(x>0)),np.floor(x*(x>0))+1,1-1/3)+1/3*(1-math.e**(-1*x*(x>0))))"
   ]
  },
  {
   "cell_type": "code",
   "execution_count": 224,
   "metadata": {},
   "outputs": [
    {
     "data": {
      "text/plain": [
       "[<matplotlib.lines.Line2D at 0x7f928697de10>]"
      ]
     },
     "execution_count": 224,
     "metadata": {},
     "output_type": "execute_result"
    },
    {
     "data": {
      "image/png": "[encoded data removed]",
      "text/plain": [
       "<Figure size 432x288 with 1 Axes>"
      ]
     },
     "metadata": {
      "needs_background": "light"
     },
     "output_type": "display_data"
    }
   ],
   "source": [
    "theo=tot_dys(t)\n",
    "plt.plot(t,theo)\n"
   ]
  },
  {
   "cell_type": "code",
   "execution_count": null,
   "metadata": {},
   "outputs": [],
   "source": [
    "#zadanie5\n",
    "#cc -fPIC -shared -o libfun.so KISS.c"
   ]
  },
  {
   "cell_type": "code",
   "execution_count": 225,
   "metadata": {},
   "outputs": [],
   "source": [
    "from ctypes import *\n",
    "so_file = \"/home/olaf/Desktop/Matematyka-Finansowa/KISS.so\"\n",
    "my_functions = CDLL(so_file)"
   ]
  },
  {
   "cell_type": "code",
   "execution_count": 226,
   "metadata": {},
   "outputs": [
    {
     "data": {
      "text/plain": [
       "0.7322860585991293"
      ]
     },
     "execution_count": 226,
     "metadata": {},
     "output_type": "execute_result"
    }
   ],
   "source": [
    "my_functions.JKISS()/4294967296.0+0.5"
   ]
  },
  {
   "cell_type": "code",
   "execution_count": 255,
   "metadata": {},
   "outputs": [
    {
     "name": "stdout",
     "output_type": "stream",
     "text": [
      "CPU times: user 32 µs, sys: 3 µs, total: 35 µs\n",
      "Wall time: 52.5 µs\n"
     ]
    },
    {
     "data": {
      "text/plain": [
       "-244323162"
      ]
     },
     "execution_count": 255,
     "metadata": {},
     "output_type": "execute_result"
    }
   ],
   "source": [
    "%%time\n",
    "my_functions.JKISS()"
   ]
  },
  {
   "cell_type": "code",
   "execution_count": 232,
   "metadata": {},
   "outputs": [],
   "source": [
    "import random"
   ]
  },
  {
   "cell_type": "code",
   "execution_count": 263,
   "metadata": {},
   "outputs": [
    {
     "name": "stdout",
     "output_type": "stream",
     "text": [
      "CPU times: user 20 µs, sys: 3 µs, total: 23 µs\n",
      "Wall time: 37.2 µs\n"
     ]
    },
    {
     "data": {
      "text/plain": [
       "0.1802002804129219"
      ]
     },
     "execution_count": 263,
     "metadata": {},
     "output_type": "execute_result"
    }
   ],
   "source": [
    "%%time\n",
    "random.random()"
   ]
  },
  {
   "cell_type": "code",
   "execution_count": 293,
   "metadata": {},
   "outputs": [
    {
     "name": "stdout",
     "output_type": "stream",
     "text": [
      "CPU times: user 316 µs, sys: 38 µs, total: 354 µs\n",
      "Wall time: 293 µs\n"
     ]
    },
    {
     "data": {
      "text/plain": [
       "array([0.00075642])"
      ]
     },
     "execution_count": 293,
     "metadata": {},
     "output_type": "execute_result"
    }
   ],
   "source": [
    "%%time\n",
    "gen.uniform(1)"
   ]
  }
 ],
 "metadata": {
  "kernelspec": {
   "display_name": "Python 3",
   "language": "python",
   "name": "python3"
  },
  "language_info": {
   "codemirror_mode": {
    "name": "ipython",
    "version": 3
   },
   "file_extension": ".py",
   "mimetype": "text/x-python",
   "name": "python",
   "nbconvert_exporter": "python",
   "pygments_lexer": "ipython3",
   "version": "3.7.4"
  }
 },
 "nbformat": 4,
 "nbformat_minor": 2
}

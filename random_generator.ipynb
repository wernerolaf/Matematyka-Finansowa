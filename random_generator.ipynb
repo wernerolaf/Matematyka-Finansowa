{
 "cells": [
  {
   "cell_type": "code",
   "execution_count": 387,
   "metadata": {},
   "outputs": [],
   "source": [
    "import numpy as np\n",
    "import math\n",
    "import matplotlib.pyplot as plt\n",
    "import seaborn as sns\n",
    "from scipy.special import erf\n",
    "from scipy.special import betainc"
   ]
  },
  {
   "cell_type": "code",
   "execution_count": 357,
   "metadata": {},
   "outputs": [],
   "source": [
    "class generator:\n",
    "    def __init__(self,seed,const,mod,next_seed=True):\n",
    "        self.start_seed=seed\n",
    "        self.seed=seed\n",
    "        self.const=const\n",
    "        self.mod=mod\n",
    "        self.k=len(const)-1\n",
    "        self.next_seed=next_seed\n",
    "        \n",
    "    def restart(self):\n",
    "        self.seed=self.start_seed\n",
    "    \n",
    "    \n",
    "    def generate(self,n):\n",
    "        random=np.zeros(n+self.k)\n",
    "        random[0:self.k]=self.seed\n",
    "        \n",
    "        for i in range(n):\n",
    "            random[self.k+i]=int(sum(self.const[1:]*random[i:self.k+i])+self.const[0]) % self.mod\n",
    "        \n",
    "        \n",
    "        if(self.next_seed):\n",
    "            self.seed=random[n:self.k+n]\n",
    "            \n",
    "        return random[self.k:]\n",
    "    \n",
    "    def uniform(self,n,left=0,right=1):\n",
    "        return (self.generate(n)/(self.mod-1))*(right-left)+left\n",
    "    \n",
    "    def elimination(self,n,g,left_g,right_g,max_g):\n",
    "        random=np.zeros(n)\n",
    "        for i in range(n):\n",
    "            while(True):\n",
    "                X=self.uniform(1,left_g,right_g)[0]\n",
    "                Y=self.uniform(1,0,max_g)[0]\n",
    "                if(Y<=g(X)):\n",
    "                    random[i]=X\n",
    "                    break\n",
    "        \n",
    "        return random\n",
    "    \n",
    "    def elimination_mod(self,n,g,max_g,a,max_rand):\n",
    "        random=np.zeros(n)\n",
    "        for i in range(n):\n",
    "            while(True):\n",
    "                X=max_rand(1)[0]\n",
    "                Y=self.uniform(1)[0]\n",
    "                if(Y<=g(X)/(a*max_g(X))):\n",
    "                    random[i]=X\n",
    "                    break\n",
    "        \n",
    "        return random\n",
    "    \n",
    "    \n",
    "    def normal(self,n,u=0,sigma=1,eps=10**-12):\n",
    "        U1=self.uniform(n)\n",
    "        U2=self.uniform(n)\n",
    "        Z=np.sqrt(-2*(np.log(U1+eps)-eps))*np.cos(2*math.pi*U2)\n",
    "        return Z*sigma+u\n",
    "    \n",
    "    def binomial(self,n,n_p,p):\n",
    "        random=np.zeros(n)\n",
    "        for i in range(n):\n",
    "            X=0\n",
    "            for j in range(n_p):\n",
    "                U=self.uniform(1)[0]\n",
    "                if U<p:\n",
    "                    X+=1\n",
    "            random[i]=X\n",
    "        \n",
    "        return random\n",
    "    \n",
    "    def poisson(self,n,lambd=1,eps=10**-12):\n",
    "        random=np.zeros(n)\n",
    "        for i in range(n):\n",
    "            X=0\n",
    "            t=self.exponential(1,lambd=lambd,eps=eps)[0]\n",
    "            while(t<=1):\n",
    "                print(t)\n",
    "                t+=self.exponential(1,lambd=lambd,eps=eps)[0]\n",
    "                X+=1\n",
    "            \n",
    "            random[i]=X\n",
    "        \n",
    "        return random\n",
    "        \n",
    "    def poisson2(self,n,lambd=1):\n",
    "        def g(x):\n",
    "            return math.e**(-1*lambd)*lambd**x/math.factorial(x)\n",
    "        \n",
    "        random=np.zeros(n)\n",
    "        G=[g(x) for x in range(5)]\n",
    "        calc=len(G)\n",
    "        for i in range(n):\n",
    "            U=self.uniform(1)[0]\n",
    "            if U==0:\n",
    "                random[i]=0\n",
    "            \n",
    "            cum=0\n",
    "            j=0\n",
    "            while(True):\n",
    "                if j<calc:\n",
    "                    temp=G[j]\n",
    "                else:\n",
    "                    G.append(g(j))\n",
    "                    calc+=1\n",
    "                \n",
    "                if(U>cum and U<=cum+temp):\n",
    "                    random[i]=j\n",
    "                    break\n",
    "                \n",
    "                cum+=temp\n",
    "                j+=1\n",
    "                \n",
    "        return random\n",
    "    \n",
    "    \n",
    "    def exponential(self,n,lambd=1,eps=10**-12):\n",
    "        U=self.uniform(n)\n",
    "        return(-1/lambd*(np.log(1-U+eps)-eps))\n",
    "    \n",
    "    def discrete(self,n,x,p):\n",
    "        random=np.zeros(n)\n",
    "        for i in range(n):\n",
    "            U=self.uniform(1)[0]\n",
    "            if U==0:\n",
    "                random[i]=x[0]\n",
    "            \n",
    "            cum=0\n",
    "            j=0\n",
    "            while(True):\n",
    "                temp=p[j]\n",
    "                if(U>cum and U<=cum+temp):\n",
    "                    random[i]=x[j]\n",
    "                    break\n",
    "                \n",
    "                cum+=temp\n",
    "                j+=1\n",
    "                \n",
    "        return random\n",
    "        \n",
    "        "
   ]
  },
  {
   "cell_type": "code",
   "execution_count": 358,
   "metadata": {},
   "outputs": [],
   "source": [
    "gen=generator(123,[math.floor(math.e*10**9),math.floor(math.pi*10**9)],2**32)"
   ]
  },
  {
   "cell_type": "code",
   "execution_count": 336,
   "metadata": {},
   "outputs": [
    {
     "data": {
      "text/plain": [
       "array([1.08036096e+08, 2.76589376e+09, 2.88275046e+09, 5.91550464e+08,\n",
       "       3.62454426e+09, 3.17113754e+09, 3.54759680e+09, 2.06543872e+09,\n",
       "       3.87612058e+09, 5.39195392e+08, 7.13082880e+08])"
      ]
     },
     "execution_count": 336,
     "metadata": {},
     "output_type": "execute_result"
    }
   ],
   "source": [
    "gen"
   ]
  },
  {
   "cell_type": "code",
   "execution_count": 312,
   "metadata": {},
   "outputs": [],
   "source": [
    "gen=generator([13,12],np.array([3,5,7]),117)"
   ]
  },
  {
   "cell_type": "code",
   "execution_count": 341,
   "metadata": {},
   "outputs": [],
   "source": [
    "r=gen.poisson(10000)"
   ]
  },
  {
   "cell_type": "code",
   "execution_count": 309,
   "metadata": {},
   "outputs": [],
   "source": [
    "xddd.append(3)"
   ]
  },
  {
   "cell_type": "code",
   "execution_count": 310,
   "metadata": {},
   "outputs": [
    {
     "data": {
      "text/plain": [
       "[1, 2, 3]"
      ]
     },
     "execution_count": 310,
     "metadata": {},
     "output_type": "execute_result"
    }
   ],
   "source": [
    "xddd"
   ]
  },
  {
   "cell_type": "code",
   "execution_count": 305,
   "metadata": {},
   "outputs": [
    {
     "data": {
      "text/plain": [
       "6"
      ]
     },
     "execution_count": 305,
     "metadata": {},
     "output_type": "execute_result"
    }
   ],
   "source": [
    "math.factorial(3)"
   ]
  },
  {
   "cell_type": "code",
   "execution_count": 217,
   "metadata": {},
   "outputs": [
    {
     "data": {
      "text/plain": [
       "(array([  77.,  301.,  909., 1708., 2462., 2292., 1419.,  619.,  158.,\n",
       "          54.]),\n",
       " array([-3.03610397, -2.40918863, -1.78227329, -1.15535794, -0.5284426 ,\n",
       "         0.09847275,  0.72538809,  1.35230344,  1.97921878,  2.60613413,\n",
       "         3.23304947]),\n",
       " <a list of 10 Patch objects>)"
      ]
     },
     "execution_count": 217,
     "metadata": {},
     "output_type": "execute_result"
    },
    {
     "data": {
      "image/png": "[encoded data removed]",
      "text/plain": [
       "<Figure size 432x288 with 1 Axes>"
      ]
     },
     "metadata": {
      "needs_background": "light"
     },
     "output_type": "display_data"
    }
   ],
   "source": [
    "plt.hist(gen.normal(10000,sigma=1))"
   ]
  },
  {
   "cell_type": "code",
   "execution_count": 355,
   "metadata": {},
   "outputs": [],
   "source": [
    "#zadanie1\n",
    "gen=generator(123,[math.floor(math.e*10**9),math.floor(math.pi*10**9)],2**32)"
   ]
  },
  {
   "cell_type": "code",
   "execution_count": 241,
   "metadata": {},
   "outputs": [],
   "source": [
    "r=gen.uniform(10000)"
   ]
  },
  {
   "cell_type": "code",
   "execution_count": 342,
   "metadata": {},
   "outputs": [
    {
     "data": {
      "text/plain": [
       "(array([3714.,    0., 3846.,    0., 1722.,    0.,  561.,    0.,  135.,\n",
       "          22.]),\n",
       " array([0. , 0.5, 1. , 1.5, 2. , 2.5, 3. , 3.5, 4. , 4.5, 5. ]),\n",
       " <a list of 10 Patch objects>)"
      ]
     },
     "execution_count": 342,
     "metadata": {},
     "output_type": "execute_result"
    },
    {
     "data": {
      "image/png": "[encoded data removed]",
      "text/plain": [
       "<Figure size 432x288 with 1 Axes>"
      ]
     },
     "metadata": {
      "needs_background": "light"
     },
     "output_type": "display_data"
    }
   ],
   "source": [
    "plt.hist(r)"
   ]
  },
  {
   "cell_type": "code",
   "execution_count": 345,
   "metadata": {},
   "outputs": [],
   "source": [
    "#zadanie2\n",
    "gen.restart()\n",
    "def g(x):\n",
    "    return(1+np.cos(x))/(1+math.e**(-1/2))*(math.e**(x**2/-2))/(math.sqrt(2*math.pi))"
   ]
  },
  {
   "cell_type": "code",
   "execution_count": 346,
   "metadata": {},
   "outputs": [],
   "source": [
    "def normal_g(x):\n",
    "    return((math.e**(x**2/-2))/(math.sqrt(2*math.pi)))"
   ]
  },
  {
   "cell_type": "code",
   "execution_count": 347,
   "metadata": {},
   "outputs": [],
   "source": [
    "r=gen.elimination_mod(10000,g=g,max_g=normal_g,a=2/(1+math.e**(-1/2)),max_rand=gen.normal)"
   ]
  },
  {
   "cell_type": "code",
   "execution_count": 348,
   "metadata": {},
   "outputs": [
    {
     "data": {
      "text/plain": [
       "(array([2.000e+00, 4.300e+01, 2.400e+01, 8.500e+01, 1.010e+02, 4.250e+02,\n",
       "        5.020e+02, 7.380e+02, 8.560e+02, 9.790e+02, 1.442e+03, 1.080e+03,\n",
       "        1.053e+03, 8.970e+02, 6.670e+02, 4.920e+02, 2.070e+02, 2.650e+02,\n",
       "        1.410e+02, 1.000e+00]),\n",
       " array([-2.52950294, -2.29431313, -2.05912331, -1.8239335 , -1.58874368,\n",
       "        -1.35355387, -1.11836405, -0.88317424, -0.64798442, -0.41279461,\n",
       "        -0.17760479,  0.05758502,  0.29277484,  0.52796465,  0.76315447,\n",
       "         0.99834428,  1.2335341 ,  1.46872391,  1.70391373,  1.93910354,\n",
       "         2.17429336]),\n",
       " <a list of 20 Patch objects>)"
      ]
     },
     "execution_count": 348,
     "metadata": {},
     "output_type": "execute_result"
    },
    {
     "data": {
      "image/png": "[encoded data removed]",
      "text/plain": [
       "<Figure size 432x288 with 1 Axes>"
      ]
     },
     "metadata": {
      "needs_background": "light"
     },
     "output_type": "display_data"
    }
   ],
   "source": [
    "plt.hist(r,bins=20)"
   ]
  },
  {
   "cell_type": "code",
   "execution_count": 349,
   "metadata": {},
   "outputs": [],
   "source": [
    "t=np.linspace(min(r),max(r),10000)"
   ]
  },
  {
   "cell_type": "code",
   "execution_count": 350,
   "metadata": {},
   "outputs": [
    {
     "data": {
      "text/plain": [
       "[<matplotlib.lines.Line2D at 0x7f9938e44c90>]"
      ]
     },
     "execution_count": 350,
     "metadata": {},
     "output_type": "execute_result"
    },
    {
     "data": {
      "image/png": "[encoded data removed]",
      "text/plain": [
       "<Figure size 432x288 with 1 Axes>"
      ]
     },
     "metadata": {
      "needs_background": "light"
     },
     "output_type": "display_data"
    }
   ],
   "source": [
    "plt.plot(t,g(t))"
   ]
  },
  {
   "cell_type": "code",
   "execution_count": 343,
   "metadata": {},
   "outputs": [
    {
     "data": {
      "text/plain": [
       "(array([1270.,    0., 2732.,    0., 2805.,    0., 1993.,    0.,  785.,\n",
       "           0.,    0.,  254.,    0.,  114.,    0.,   33.,    0.,    0.,\n",
       "           0.,   14.]),\n",
       " array([0.  , 0.45, 0.9 , 1.35, 1.8 , 2.25, 2.7 , 3.15, 3.6 , 4.05, 4.5 ,\n",
       "        4.95, 5.4 , 5.85, 6.3 , 6.75, 7.2 , 7.65, 8.1 , 8.55, 9.  ]),\n",
       " <a list of 20 Patch objects>)"
      ]
     },
     "execution_count": 343,
     "metadata": {},
     "output_type": "execute_result"
    },
    {
     "data": {
      "image/png": "[encoded data removed]",
      "text/plain": [
       "<Figure size 432x288 with 1 Axes>"
      ]
     },
     "metadata": {
      "needs_background": "light"
     },
     "output_type": "display_data"
    }
   ],
   "source": [
    "#zadanie 3\n",
    "gen.restart()\n",
    "r=gen.poisson(10000,lambd=2)\n",
    "plt.hist(r,bins=20)"
   ]
  },
  {
   "cell_type": "code",
   "execution_count": 344,
   "metadata": {},
   "outputs": [
    {
     "data": {
      "text/plain": [
       "(array([1.361e+03, 0.000e+00, 2.668e+03, 0.000e+00, 2.706e+03, 0.000e+00,\n",
       "        1.826e+03, 0.000e+00, 9.510e+02, 0.000e+00, 0.000e+00, 3.390e+02,\n",
       "        0.000e+00, 1.210e+02, 0.000e+00, 1.900e+01, 0.000e+00, 7.000e+00,\n",
       "        0.000e+00, 2.000e+00]),\n",
       " array([0.  , 0.45, 0.9 , 1.35, 1.8 , 2.25, 2.7 , 3.15, 3.6 , 4.05, 4.5 ,\n",
       "        4.95, 5.4 , 5.85, 6.3 , 6.75, 7.2 , 7.65, 8.1 , 8.55, 9.  ]),\n",
       " <a list of 20 Patch objects>)"
      ]
     },
     "execution_count": 344,
     "metadata": {},
     "output_type": "execute_result"
    },
    {
     "data": {
      "image/png": "[encoded data removed]",
      "text/plain": [
       "<Figure size 432x288 with 1 Axes>"
      ]
     },
     "metadata": {
      "needs_background": "light"
     },
     "output_type": "display_data"
    }
   ],
   "source": [
    "gen.restart()\n",
    "r=gen.poisson2(10000,lambd=2)\n",
    "plt.hist(r,bins=20)"
   ]
  },
  {
   "cell_type": "code",
   "execution_count": 410,
   "metadata": {},
   "outputs": [],
   "source": [
    "#zadanie 4\n",
    "gen.restart()\n",
    "wh=gen.discrete(10000,[1,2,3],[1/3,1/3,1/3])\n",
    "bi=gen.binomial(sum(wh==1),10,1/3)\n",
    "nor=gen.normal(sum(wh==2))\n",
    "ex=gen.exponential(sum(wh==3))\n",
    "\n"
   ]
  },
  {
   "cell_type": "code",
   "execution_count": 411,
   "metadata": {},
   "outputs": [],
   "source": [
    "tot=np.concatenate([bi,nor,ex],axis=0)"
   ]
  },
  {
   "cell_type": "code",
   "execution_count": 412,
   "metadata": {},
   "outputs": [
    {
     "data": {
      "text/plain": [
       "array([4.        , 4.        , 6.        , ..., 1.49457994, 0.05454277,\n",
       "       0.20793699])"
      ]
     },
     "execution_count": 412,
     "metadata": {},
     "output_type": "execute_result"
    }
   ],
   "source": [
    "tot"
   ]
  },
  {
   "cell_type": "code",
   "execution_count": 413,
   "metadata": {},
   "outputs": [],
   "source": [
    "t=np.linspace(min(tot),max(tot),10000)"
   ]
  },
  {
   "cell_type": "code",
   "execution_count": 414,
   "metadata": {},
   "outputs": [],
   "source": [
    "tot.sort()"
   ]
  },
  {
   "cell_type": "code",
   "execution_count": 415,
   "metadata": {},
   "outputs": [],
   "source": [
    "x=np.arange(0,10000,1)"
   ]
  },
  {
   "cell_type": "code",
   "execution_count": 416,
   "metadata": {},
   "outputs": [
    {
     "data": {
      "text/plain": [
       "[<matplotlib.lines.Line2D at 0x7f9938027690>]"
      ]
     },
     "execution_count": 416,
     "metadata": {},
     "output_type": "execute_result"
    },
    {
     "data": {
      "image/png": "[encoded data removed]",
      "text/plain": [
       "<Figure size 432x288 with 1 Axes>"
      ]
     },
     "metadata": {
      "needs_background": "light"
     },
     "output_type": "display_data"
    }
   ],
   "source": [
    "plt.plot(tot,x/10000)"
   ]
  },
  {
   "cell_type": "code",
   "execution_count": 436,
   "metadata": {},
   "outputs": [],
   "source": [
    "def tot_dys(x):\n",
    "    return(1/3*1/2*(1+erf(x/math.sqrt(2)))+1/3*betainc(10-np.floor(x*(x>0)),np.floor(x*(x>0))+1,1-1/3)+1/3*(1-math.e**(-1*x*(x>0))))"
   ]
  },
  {
   "cell_type": "code",
   "execution_count": 437,
   "metadata": {},
   "outputs": [
    {
     "data": {
      "text/plain": [
       "(-3, 8)"
      ]
     },
     "execution_count": 437,
     "metadata": {},
     "output_type": "execute_result"
    },
    {
     "data": {
      "image/png": "[encoded data removed]",
      "text/plain": [
       "<Figure size 432x288 with 1 Axes>"
      ]
     },
     "metadata": {
      "needs_background": "light"
     },
     "output_type": "display_data"
    }
   ],
   "source": [
    "theo=tot_dys(t)\n",
    "plt.plot(t,theo)\n",
    "plt.xlim(-3,8)"
   ]
  },
  {
   "cell_type": "code",
   "execution_count": null,
   "metadata": {},
   "outputs": [],
   "source": []
  }
 ],
 "metadata": {
  "kernelspec": {
   "display_name": "Python 3",
   "language": "python",
   "name": "python3"
  },
  "language_info": {
   "codemirror_mode": {
    "name": "ipython",
    "version": 3
   },
   "file_extension": ".py",
   "mimetype": "text/x-python",
   "name": "python",
   "nbconvert_exporter": "python",
   "pygments_lexer": "ipython3",
   "version": "3.7.4"
  }
 },
 "nbformat": 4,
 "nbformat_minor": 2
}

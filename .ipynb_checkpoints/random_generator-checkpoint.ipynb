{
 "cells": [
  {
   "cell_type": "code",
   "execution_count": 1,
   "metadata": {},
   "outputs": [],
   "source": [
    "import numpy as np\n",
    "import math\n",
    "import matplotlib.pyplot as plt\n",
    "import seaborn as sns\n",
    "from scipy.special import erf\n",
    "from scipy.special import betainc"
   ]
  },
  {
   "cell_type": "code",
   "execution_count": 2,
   "metadata": {},
   "outputs": [],
   "source": [
    "class generator:\n",
    "    def __init__(self,seed,const,mod,next_seed=True):\n",
    "        self.start_seed=seed\n",
    "        self.seed=seed\n",
    "        self.const=const\n",
    "        self.mod=mod\n",
    "        self.k=len(const)-1\n",
    "        self.next_seed=next_seed\n",
    "        \n",
    "    def restart(self):\n",
    "        self.seed=self.start_seed\n",
    "    \n",
    "    \n",
    "    def generate(self,n):\n",
    "        random=np.zeros(n+self.k,dtype=int)\n",
    "        random[0:self.k]=self.seed\n",
    "        \n",
    "        for i in range(n):\n",
    "            random[self.k+i]=int(sum(self.const[1:]*random[i:self.k+i])+self.const[0]) % self.mod\n",
    "        \n",
    "        \n",
    "        if(self.next_seed):\n",
    "            self.seed=random[n:self.k+n]\n",
    "            \n",
    "        return random[self.k:]\n",
    "    \n",
    "    def uniform(self,n,left=0,right=1):\n",
    "        return (self.generate(n)/(self.mod-1))*(right-left)+left\n",
    "    \n",
    "    def elimination(self,n,g,left_g,right_g,max_g):\n",
    "        random=np.zeros(n)\n",
    "        for i in range(n):\n",
    "            while(True):\n",
    "                X=self.uniform(1,left_g,right_g)[0]\n",
    "                Y=self.uniform(1,0,max_g)[0]\n",
    "                if(Y<=g(X)):\n",
    "                    random[i]=X\n",
    "                    break\n",
    "        \n",
    "        return random\n",
    "    \n",
    "    def elimination_mod(self,n,g,max_g,a,max_rand):\n",
    "        random=np.zeros(n)\n",
    "        for i in range(n):\n",
    "            while(True):\n",
    "                X=max_rand(1)[0]\n",
    "                Y=self.uniform(1)[0]\n",
    "                if(Y<=g(X)/(a*max_g(X))):\n",
    "                    random[i]=X\n",
    "                    break\n",
    "        \n",
    "        return random\n",
    "    \n",
    "    \n",
    "    def normal(self,n,u=0,sigma=1,eps=10**-12):\n",
    "        U1=self.uniform(n)\n",
    "        U2=self.uniform(n)\n",
    "        Z=np.sqrt(-2*(np.log(U1+eps)-eps))*np.cos(2*math.pi*U2)\n",
    "        return Z*sigma+u\n",
    "    \n",
    "    def binomial(self,n,n_p,p):\n",
    "        random=np.zeros(n,dtype=int)\n",
    "        for i in range(n):\n",
    "            X=0\n",
    "            for j in range(n_p):\n",
    "                U=self.uniform(1)[0]\n",
    "                if U<p:\n",
    "                    X+=1\n",
    "            random[i]=X\n",
    "        \n",
    "        return random\n",
    "    \n",
    "    def poisson(self,n,lambd=1,eps=10**-12):\n",
    "        random=np.zeros(n,dtype=int)\n",
    "        for i in range(n):\n",
    "            X=0\n",
    "            t=self.exponential(1,lambd=lambd,eps=eps)[0]\n",
    "            while(t<=1):\n",
    "                t+=self.exponential(1,lambd=lambd,eps=eps)[0]\n",
    "                X+=1\n",
    "            \n",
    "            random[i]=X\n",
    "        \n",
    "        return random\n",
    "        \n",
    "    def poisson2(self,n,lambd=1):\n",
    "        def g(x):\n",
    "            return math.e**(-1*lambd)*lambd**x/math.factorial(x)\n",
    "        \n",
    "        random=np.zeros(n,dtype=int)\n",
    "        G=[g(x) for x in range(5)]\n",
    "        calc=len(G)\n",
    "        for i in range(n):\n",
    "            U=self.uniform(1)[0]\n",
    "            if U==0:\n",
    "                random[i]=0\n",
    "            \n",
    "            cum=0\n",
    "            j=0\n",
    "            while(True):\n",
    "                if j<calc:\n",
    "                    temp=G[j]\n",
    "                else:\n",
    "                    G.append(g(j))\n",
    "                    calc+=1\n",
    "                \n",
    "                if(U>cum and U<=cum+temp):\n",
    "                    random[i]=j\n",
    "                    break\n",
    "                \n",
    "                cum+=temp\n",
    "                j+=1\n",
    "                \n",
    "        return random\n",
    "    \n",
    "    \n",
    "    def exponential(self,n,lambd=1,eps=10**-12):\n",
    "        U=self.uniform(n)\n",
    "        return(-1/lambd*(np.log(1-U+eps)-eps))\n",
    "    \n",
    "    def discrete(self,n,x,p):\n",
    "        random=np.zeros(n,dtype=int)\n",
    "        for i in range(n):\n",
    "            U=self.uniform(1)[0]\n",
    "            if U==0:\n",
    "                random[i]=x[0]\n",
    "            \n",
    "            cum=0\n",
    "            j=0\n",
    "            while(True):\n",
    "                temp=p[j]\n",
    "                if(U>cum and U<=cum+temp):\n",
    "                    random[i]=x[j]\n",
    "                    break\n",
    "                \n",
    "                cum+=temp\n",
    "                j+=1\n",
    "                \n",
    "        return random\n",
    "        \n",
    "        "
   ]
  },
  {
   "cell_type": "code",
   "execution_count": 204,
   "metadata": {},
   "outputs": [],
   "source": [
    "gen=generator([13,12],np.array([3,5,7]),117)"
   ]
  },
  {
   "cell_type": "code",
   "execution_count": 3,
   "metadata": {},
   "outputs": [],
   "source": [
    "#zadanie1\n",
    "gen=generator(123,[math.floor(math.e*10**9),math.floor(math.pi*10**9)],2**32)"
   ]
  },
  {
   "cell_type": "code",
   "execution_count": 206,
   "metadata": {},
   "outputs": [],
   "source": [
    "r=gen.uniform(10000)"
   ]
  },
  {
   "cell_type": "code",
   "execution_count": 207,
   "metadata": {},
   "outputs": [
    {
     "data": {
      "text/plain": [
       "(array([ 985.,  974.,  971., 1006., 1054.,  973., 1025., 1034.,  993.,\n",
       "         985.]),\n",
       " array([1.89025654e-04, 1.00148809e-01, 2.00108593e-01, 3.00068377e-01,\n",
       "        4.00028160e-01, 4.99987944e-01, 5.99947728e-01, 6.99907511e-01,\n",
       "        7.99867295e-01, 8.99827079e-01, 9.99786862e-01]),\n",
       " <a list of 10 Patch objects>)"
      ]
     },
     "execution_count": 207,
     "metadata": {},
     "output_type": "execute_result"
    },
    {
     "data": {
      "image/png": "[encoded data removed]",
      "text/plain": [
       "<Figure size 432x288 with 1 Axes>"
      ]
     },
     "metadata": {
      "needs_background": "light"
     },
     "output_type": "display_data"
    }
   ],
   "source": [
    "plt.hist(r)"
   ]
  },
  {
   "cell_type": "code",
   "execution_count": 208,
   "metadata": {},
   "outputs": [],
   "source": [
    "#zadanie2\n",
    "gen.restart()\n",
    "def g(x):\n",
    "    return(1+np.cos(x))/(1+math.e**(-1/2))*(math.e**(x**2/-2))/(math.sqrt(2*math.pi))"
   ]
  },
  {
   "cell_type": "code",
   "execution_count": 209,
   "metadata": {},
   "outputs": [],
   "source": [
    "def normal_g(x):\n",
    "    return((math.e**(x**2/-2))/(math.sqrt(2*math.pi)))"
   ]
  },
  {
   "cell_type": "code",
   "execution_count": 210,
   "metadata": {},
   "outputs": [],
   "source": [
    "r=gen.elimination_mod(10000,g=g,max_g=normal_g,a=2/(1+math.e**(-1/2)),max_rand=gen.normal)"
   ]
  },
  {
   "cell_type": "code",
   "execution_count": 211,
   "metadata": {},
   "outputs": [
    {
     "data": {
      "text/plain": [
       "(array([   2.,    4.,   23.,   85.,  139.,  329.,  585.,  841., 1188.,\n",
       "        1313., 1410., 1335., 1100.,  776.,  457.,  249.,  100.,   42.,\n",
       "          19.,    3.]),\n",
       " array([-2.97768321, -2.68929837, -2.40091353, -2.1125287 , -1.82414386,\n",
       "        -1.53575902, -1.24737418, -0.95898935, -0.67060451, -0.38221967,\n",
       "        -0.09383483,  0.19455001,  0.48293484,  0.77131968,  1.05970452,\n",
       "         1.34808936,  1.63647419,  1.92485903,  2.21324387,  2.50162871,\n",
       "         2.79001355]),\n",
       " <a list of 20 Patch objects>)"
      ]
     },
     "execution_count": 211,
     "metadata": {},
     "output_type": "execute_result"
    },
    {
     "data": {
      "image/png": "[encoded data removed]",
      "text/plain": [
       "<Figure size 432x288 with 1 Axes>"
      ]
     },
     "metadata": {
      "needs_background": "light"
     },
     "output_type": "display_data"
    }
   ],
   "source": [
    "plt.hist(r,bins=20)"
   ]
  },
  {
   "cell_type": "code",
   "execution_count": 212,
   "metadata": {},
   "outputs": [],
   "source": [
    "t=np.linspace(min(r),max(r),10000)"
   ]
  },
  {
   "cell_type": "code",
   "execution_count": 214,
   "metadata": {},
   "outputs": [
    {
     "data": {
      "text/plain": [
       "[<matplotlib.lines.Line2D at 0x7f9286a47890>]"
      ]
     },
     "execution_count": 214,
     "metadata": {},
     "output_type": "execute_result"
    },
    {
     "data": {
      "image/png": "[encoded data removed]",
      "text/plain": [
       "<Figure size 432x288 with 1 Axes>"
      ]
     },
     "metadata": {
      "needs_background": "light"
     },
     "output_type": "display_data"
    }
   ],
   "source": [
    "plt.plot(t,g(t))\n",
    "plt.plot(t,normal_g(t))"
   ]
  },
  {
   "cell_type": "code",
   "execution_count": 215,
   "metadata": {},
   "outputs": [
    {
     "data": {
      "text/plain": [
       "(array([1.379e+03, 0.000e+00, 2.705e+03, 0.000e+00, 2.635e+03, 0.000e+00,\n",
       "        1.862e+03, 0.000e+00, 8.840e+02, 0.000e+00, 0.000e+00, 3.460e+02,\n",
       "        0.000e+00, 1.370e+02, 0.000e+00, 4.500e+01, 0.000e+00, 6.000e+00,\n",
       "        0.000e+00, 1.000e+00]),\n",
       " array([0.  , 0.45, 0.9 , 1.35, 1.8 , 2.25, 2.7 , 3.15, 3.6 , 4.05, 4.5 ,\n",
       "        4.95, 5.4 , 5.85, 6.3 , 6.75, 7.2 , 7.65, 8.1 , 8.55, 9.  ]),\n",
       " <a list of 20 Patch objects>)"
      ]
     },
     "execution_count": 215,
     "metadata": {},
     "output_type": "execute_result"
    },
    {
     "data": {
      "image/png": "[encoded data removed]",
      "text/plain": [
       "<Figure size 432x288 with 1 Axes>"
      ]
     },
     "metadata": {
      "needs_background": "light"
     },
     "output_type": "display_data"
    }
   ],
   "source": [
    "#zadanie 3\n",
    "gen.restart()\n",
    "r=gen.poisson(10000,lambd=2)\n",
    "plt.hist(r,bins=20)"
   ]
  },
  {
   "cell_type": "code",
   "execution_count": 216,
   "metadata": {},
   "outputs": [
    {
     "data": {
      "text/plain": [
       "(array([1.318e+03, 0.000e+00, 2.685e+03, 0.000e+00, 2.756e+03, 0.000e+00,\n",
       "        1.835e+03, 0.000e+00, 8.770e+02, 0.000e+00, 0.000e+00, 3.680e+02,\n",
       "        0.000e+00, 1.090e+02, 0.000e+00, 4.100e+01, 0.000e+00, 1.000e+01,\n",
       "        0.000e+00, 1.000e+00]),\n",
       " array([0.  , 0.45, 0.9 , 1.35, 1.8 , 2.25, 2.7 , 3.15, 3.6 , 4.05, 4.5 ,\n",
       "        4.95, 5.4 , 5.85, 6.3 , 6.75, 7.2 , 7.65, 8.1 , 8.55, 9.  ]),\n",
       " <a list of 20 Patch objects>)"
      ]
     },
     "execution_count": 216,
     "metadata": {},
     "output_type": "execute_result"
    },
    {
     "data": {
      "image/png": "[encoded data removed]",
      "text/plain": [
       "<Figure size 432x288 with 1 Axes>"
      ]
     },
     "metadata": {
      "needs_background": "light"
     },
     "output_type": "display_data"
    }
   ],
   "source": [
    "gen.restart()\n",
    "r=gen.poisson2(10000,lambd=2)\n",
    "plt.hist(r,bins=20)"
   ]
  },
  {
   "cell_type": "code",
   "execution_count": 217,
   "metadata": {},
   "outputs": [],
   "source": [
    "#zadanie 4\n",
    "gen.restart()\n",
    "wh=gen.discrete(10000,[1,2,3],[1/3,1/3,1/3])\n",
    "bi=gen.binomial(sum(wh==1),10,1/3)\n",
    "nor=gen.normal(sum(wh==2))\n",
    "ex=gen.exponential(sum(wh==3))\n",
    "\n"
   ]
  },
  {
   "cell_type": "code",
   "execution_count": 218,
   "metadata": {},
   "outputs": [],
   "source": [
    "tot=np.concatenate([bi,nor,ex],axis=0)"
   ]
  },
  {
   "cell_type": "code",
   "execution_count": 219,
   "metadata": {},
   "outputs": [],
   "source": [
    "t=np.linspace(min(tot),max(tot),10000)"
   ]
  },
  {
   "cell_type": "code",
   "execution_count": 220,
   "metadata": {},
   "outputs": [],
   "source": [
    "tot.sort()"
   ]
  },
  {
   "cell_type": "code",
   "execution_count": 221,
   "metadata": {},
   "outputs": [],
   "source": [
    "x=np.arange(0,10000,1)"
   ]
  },
  {
   "cell_type": "code",
   "execution_count": 222,
   "metadata": {},
   "outputs": [
    {
     "data": {
      "text/plain": [
       "[<matplotlib.lines.Line2D at 0x7f92869c58d0>]"
      ]
     },
     "execution_count": 222,
     "metadata": {},
     "output_type": "execute_result"
    },
    {
     "data": {
      "image/png": "[encoded data removed]",
      "text/plain": [
       "<Figure size 432x288 with 1 Axes>"
      ]
     },
     "metadata": {
      "needs_background": "light"
     },
     "output_type": "display_data"
    }
   ],
   "source": [
    "plt.plot(tot,x/10000)"
   ]
  },
  {
   "cell_type": "code",
   "execution_count": 223,
   "metadata": {},
   "outputs": [],
   "source": [
    "def tot_dys(x):\n",
    "    return(1/3*1/2*(1+erf(x/math.sqrt(2)))+1/3*betainc(10-np.floor(x*(x>0)),np.floor(x*(x>0))+1,1-1/3)+1/3*(1-math.e**(-1*x*(x>0))))"
   ]
  },
  {
   "cell_type": "code",
   "execution_count": 224,
   "metadata": {},
   "outputs": [
    {
     "data": {
      "text/plain": [
       "[<matplotlib.lines.Line2D at 0x7f928697de10>]"
      ]
     },
     "execution_count": 224,
     "metadata": {},
     "output_type": "execute_result"
    },
    {
     "data": {
      "image/png": "[encoded data removed]",
      "text/plain": [
       "<Figure size 432x288 with 1 Axes>"
      ]
     },
     "metadata": {
      "needs_background": "light"
     },
     "output_type": "display_data"
    }
   ],
   "source": [
    "theo=tot_dys(t)\n",
    "plt.plot(t,theo)\n"
   ]
  },
  {
   "cell_type": "code",
   "execution_count": null,
   "metadata": {},
   "outputs": [],
   "source": [
    "#zadanie5\n",
    "#cc -fPIC -shared -o libfun.so KISS.c"
   ]
  },
  {
   "cell_type": "code",
   "execution_count": 225,
   "metadata": {},
   "outputs": [],
   "source": [
    "from ctypes import *\n",
    "so_file = \"/home/olaf/Desktop/Matematyka-Finansowa/KISS.so\"\n",
    "my_functions = CDLL(so_file)"
   ]
  },
  {
   "cell_type": "code",
   "execution_count": 226,
   "metadata": {},
   "outputs": [
    {
     "data": {
      "text/plain": [
       "0.7322860585991293"
      ]
     },
     "execution_count": 226,
     "metadata": {},
     "output_type": "execute_result"
    }
   ],
   "source": [
    "my_functions.JKISS()/4294967296.0+0.5"
   ]
  },
  {
   "cell_type": "code",
   "execution_count": 255,
   "metadata": {},
   "outputs": [
    {
     "name": "stdout",
     "output_type": "stream",
     "text": [
      "CPU times: user 32 µs, sys: 3 µs, total: 35 µs\n",
      "Wall time: 52.5 µs\n"
     ]
    },
    {
     "data": {
      "text/plain": [
       "-244323162"
      ]
     },
     "execution_count": 255,
     "metadata": {},
     "output_type": "execute_result"
    }
   ],
   "source": [
    "%%time\n",
    "my_functions.JKISS()"
   ]
  },
  {
   "cell_type": "code",
   "execution_count": 232,
   "metadata": {},
   "outputs": [],
   "source": [
    "import random"
   ]
  },
  {
   "cell_type": "code",
   "execution_count": 263,
   "metadata": {},
   "outputs": [
    {
     "name": "stdout",
     "output_type": "stream",
     "text": [
      "CPU times: user 20 µs, sys: 3 µs, total: 23 µs\n",
      "Wall time: 37.2 µs\n"
     ]
    },
    {
     "data": {
      "text/plain": [
       "0.1802002804129219"
      ]
     },
     "execution_count": 263,
     "metadata": {},
     "output_type": "execute_result"
    }
   ],
   "source": [
    "%%time\n",
    "random.random()"
   ]
  },
  {
   "cell_type": "code",
   "execution_count": 293,
   "metadata": {},
   "outputs": [
    {
     "name": "stdout",
     "output_type": "stream",
     "text": [
      "CPU times: user 316 µs, sys: 38 µs, total: 354 µs\n",
      "Wall time: 293 µs\n"
     ]
    },
    {
     "data": {
      "text/plain": [
       "array([0.00075642])"
      ]
     },
     "execution_count": 293,
     "metadata": {},
     "output_type": "execute_result"
    }
   ],
   "source": [
    "%%time\n",
    "gen.uniform(1)"
   ]
  },
  {
   "cell_type": "markdown",
   "metadata": {},
   "source": [
    "## LAB 2"
   ]
  },
  {
   "cell_type": "code",
   "execution_count": null,
   "metadata": {},
   "outputs": [],
   "source": [
    "#zadanie 6"
   ]
  },
  {
   "cell_type": "code",
   "execution_count": 337,
   "metadata": {},
   "outputs": [],
   "source": [
    "gen.restart()\n",
    "r=gen.exponential(1000,lambd=3)"
   ]
  },
  {
   "cell_type": "code",
   "execution_count": 338,
   "metadata": {},
   "outputs": [],
   "source": [
    "t=np.cumsum(r)"
   ]
  },
  {
   "cell_type": "code",
   "execution_count": 339,
   "metadata": {},
   "outputs": [
    {
     "data": {
      "text/plain": [
       "[<matplotlib.lines.Line2D at 0x7f92864d4d90>]"
      ]
     },
     "execution_count": 339,
     "metadata": {},
     "output_type": "execute_result"
    },
    {
     "data": {
      "image/png": "[encoded data removed]",
      "text/plain": [
       "<Figure size 432x288 with 1 Axes>"
      ]
     },
     "metadata": {
      "needs_background": "light"
     },
     "output_type": "display_data"
    }
   ],
   "source": [
    "plt.plot(t,np.arange(1,1001,1))"
   ]
  },
  {
   "cell_type": "code",
   "execution_count": 7,
   "metadata": {},
   "outputs": [],
   "source": [
    "def cholesky(S):  #S - macierz kwadratowa dodatnio okreslona\n",
    "    n = len(S)\n",
    "    L = [[0.0] * n for i in range(n)]\n",
    "    for i in range(n):\n",
    "        for k in range(i+1):\n",
    "            tmp_sum = sum(L[i][j] * L[k][j] for j in range(k))\n",
    "            \n",
    "            if (i == k):\n",
    "                L[i][k] = math.sqrt(S[i][i] - tmp_sum)\n",
    "            else:\n",
    "                L[i][k] = (1.0 / L[k][k] * (S[i][k] - tmp_sum))\n",
    "                \n",
    "    return L"
   ]
  },
  {
   "cell_type": "code",
   "execution_count": null,
   "metadata": {},
   "outputs": [],
   "source": [
    "#zadanie7"
   ]
  },
  {
   "cell_type": "code",
   "execution_count": 55,
   "metadata": {},
   "outputs": [
    {
     "name": "stdout",
     "output_type": "stream",
     "text": [
      "CPU times: user 21.4 ms, sys: 81 µs, total: 21.4 ms\n",
      "Wall time: 24.1 ms\n"
     ]
    }
   ],
   "source": [
    "%%time\n",
    "gen.restart()\n",
    "r=gen.normal(1000)\n",
    "t=np.arange(1,1001,1)\n",
    "s=np.cumsum(r)"
   ]
  },
  {
   "cell_type": "code",
   "execution_count": 56,
   "metadata": {},
   "outputs": [
    {
     "data": {
      "text/plain": [
       "[<matplotlib.lines.Line2D at 0x7f3d93fc7f50>]"
      ]
     },
     "execution_count": 56,
     "metadata": {},
     "output_type": "execute_result"
    },
    {
     "data": {
      "image/png": "[encoded data removed]",
      "text/plain": [
       "<Figure size 432x288 with 1 Axes>"
      ]
     },
     "metadata": {
      "needs_background": "light"
     },
     "output_type": "display_data"
    }
   ],
   "source": [
    "plt.plot(t,s)"
   ]
  },
  {
   "cell_type": "code",
   "execution_count": 57,
   "metadata": {},
   "outputs": [
    {
     "name": "stdout",
     "output_type": "stream",
     "text": [
      "CPU times: user 82.1 ms, sys: 3.75 ms, total: 85.9 ms\n",
      "Wall time: 86.3 ms\n"
     ]
    }
   ],
   "source": [
    "%%time\n",
    "gen.restart()\n",
    "r=gen.normal(100)\n",
    "sig=np.ones((100,100))\n",
    "for i in range(1,100):\n",
    "    sig[i,i:]=i+1\n",
    "    \n",
    "A=cholesky(sig)\n",
    "A=np.array(A)\n",
    "r=A.dot(r.reshape(-1,1))"
   ]
  },
  {
   "cell_type": "code",
   "execution_count": 361,
   "metadata": {},
   "outputs": [],
   "source": [
    "A=cholesky(sig)"
   ]
  },
  {
   "cell_type": "code",
   "execution_count": 362,
   "metadata": {},
   "outputs": [],
   "source": [
    "A=np.array(A)"
   ]
  },
  {
   "cell_type": "code",
   "execution_count": 5,
   "metadata": {},
   "outputs": [
    {
     "data": {
      "text/plain": [
       "array([[ 1.01560151e-01],\n",
       "       [-9.71329760e-01],\n",
       "       [ 8.19186207e-01],\n",
       "       [ 1.50471778e+00],\n",
       "       [-3.70717708e-01],\n",
       "       [-8.87777570e-01],\n",
       "       [ 2.20986782e-02],\n",
       "       [-6.01664805e-01],\n",
       "       [-5.07361404e-01],\n",
       "       [-2.91955922e-01],\n",
       "       [-1.65071556e-01],\n",
       "       [ 8.00864592e-01],\n",
       "       [ 8.98226381e-01],\n",
       "       [ 1.06787201e+00],\n",
       "       [-1.50918994e-01],\n",
       "       [ 9.14247157e-01],\n",
       "       [ 9.03421291e-01],\n",
       "       [-9.77363124e-01],\n",
       "       [ 2.04104470e+00],\n",
       "       [-1.43673676e+00],\n",
       "       [ 2.26870580e-01],\n",
       "       [ 1.01772891e+00],\n",
       "       [-1.37081596e+00],\n",
       "       [ 6.52201353e-01],\n",
       "       [ 7.13085632e-01],\n",
       "       [-6.66660096e-01],\n",
       "       [ 4.45426452e-01],\n",
       "       [ 7.27488731e-01],\n",
       "       [ 5.63080985e-01],\n",
       "       [ 1.24254306e+00],\n",
       "       [ 3.64614817e-01],\n",
       "       [ 1.46726595e-01],\n",
       "       [-1.76723573e+00],\n",
       "       [-3.44789434e-01],\n",
       "       [ 1.57752170e-01],\n",
       "       [ 7.64980418e-01],\n",
       "       [ 1.08227958e+00],\n",
       "       [-1.50274643e+00],\n",
       "       [ 5.69382335e-01],\n",
       "       [ 1.10969251e+00],\n",
       "       [-4.20950418e-01],\n",
       "       [-6.88146088e-01],\n",
       "       [ 3.04867007e-01],\n",
       "       [ 1.33978295e+00],\n",
       "       [-5.15713131e-01],\n",
       "       [-3.34737933e-01],\n",
       "       [ 2.21688345e-01],\n",
       "       [ 1.53845978e+00],\n",
       "       [ 3.11078654e-01],\n",
       "       [-7.78654581e-01],\n",
       "       [ 1.29214004e+00],\n",
       "       [ 1.64045880e+00],\n",
       "       [-1.00568634e-01],\n",
       "       [ 7.42834780e-01],\n",
       "       [-1.15654171e-01],\n",
       "       [ 5.36735674e-01],\n",
       "       [-4.58135904e-01],\n",
       "       [-5.23144696e-01],\n",
       "       [ 2.56820681e-01],\n",
       "       [ 2.57623598e+00],\n",
       "       [ 2.30597792e-01],\n",
       "       [ 3.38840994e-01],\n",
       "       [-6.38305260e-01],\n",
       "       [-1.39706717e+00],\n",
       "       [ 1.76440720e-01],\n",
       "       [ 3.63880785e-01],\n",
       "       [ 2.72297392e-01],\n",
       "       [ 9.06888779e-01],\n",
       "       [-4.94170676e-01],\n",
       "       [ 1.05995083e-02],\n",
       "       [-9.79134761e-01],\n",
       "       [ 1.57899252e+00],\n",
       "       [ 9.37152717e-01],\n",
       "       [-1.97076586e-01],\n",
       "       [ 1.99617250e-01],\n",
       "       [-2.73273846e-01],\n",
       "       [ 2.42622522e+00],\n",
       "       [-9.06091487e-01],\n",
       "       [ 1.08802674e+00],\n",
       "       [ 5.78471850e-01],\n",
       "       [ 9.46988613e-01],\n",
       "       [-2.79153492e+00],\n",
       "       [ 1.48448052e+00],\n",
       "       [ 2.06467384e-01],\n",
       "       [-1.47134088e+00],\n",
       "       [ 3.73532943e-01],\n",
       "       [-8.26544268e-01],\n",
       "       [ 1.10398399e+00],\n",
       "       [-1.02908398e+00],\n",
       "       [-3.85217029e-01],\n",
       "       [ 1.08568975e+00],\n",
       "       [-1.50087182e+00],\n",
       "       [-1.04604741e+00],\n",
       "       [-1.16756501e+00],\n",
       "       [ 1.23851218e+00],\n",
       "       [ 1.26001900e+00],\n",
       "       [-5.17177466e-01],\n",
       "       [-3.86389276e-02],\n",
       "       [-4.55831152e-01],\n",
       "       [-9.44942715e-01],\n",
       "       [-9.81265645e-01],\n",
       "       [ 4.65127381e-01],\n",
       "       [ 6.82026769e-01],\n",
       "       [-8.97190240e-03],\n",
       "       [ 1.05871516e+00],\n",
       "       [-1.30107883e+00],\n",
       "       [ 5.71849634e-01],\n",
       "       [ 1.83427172e+00],\n",
       "       [-3.29315420e-01],\n",
       "       [ 5.06552608e-01],\n",
       "       [ 6.15428036e-01],\n",
       "       [ 3.32520837e-01],\n",
       "       [-1.06624623e+00],\n",
       "       [ 3.27233135e-01],\n",
       "       [ 8.67960246e-01],\n",
       "       [ 1.11253048e+00],\n",
       "       [-1.61615123e+00],\n",
       "       [ 4.91480077e-01],\n",
       "       [ 2.48275926e+00],\n",
       "       [-1.05631648e+00],\n",
       "       [ 1.89538586e+00],\n",
       "       [ 6.54670199e-01],\n",
       "       [ 1.11959263e+00],\n",
       "       [ 3.22909137e-01],\n",
       "       [-6.84991371e-01],\n",
       "       [-2.10718876e+00],\n",
       "       [-1.30057749e+00],\n",
       "       [-8.06621042e-01],\n",
       "       [-2.14660110e-01],\n",
       "       [ 7.97482893e-01],\n",
       "       [ 2.01560368e+00],\n",
       "       [-1.81712773e-01],\n",
       "       [ 4.79379542e-01],\n",
       "       [ 1.27017557e+00],\n",
       "       [-2.29899373e-01],\n",
       "       [-1.33304283e+00],\n",
       "       [-9.10517363e-01],\n",
       "       [ 9.87894710e-01],\n",
       "       [-8.32006717e-01],\n",
       "       [ 5.99749134e-01],\n",
       "       [-6.89119719e-01],\n",
       "       [ 1.45604678e+00],\n",
       "       [ 8.38666303e-01],\n",
       "       [-7.06429993e-01],\n",
       "       [ 1.35105775e-01],\n",
       "       [ 1.94511259e-01],\n",
       "       [ 2.39605746e-01],\n",
       "       [-1.03557788e+00],\n",
       "       [-2.89849635e-02],\n",
       "       [-1.17184689e+00],\n",
       "       [ 9.56962498e-01],\n",
       "       [-2.26204425e+00],\n",
       "       [-1.63191570e-01],\n",
       "       [ 6.52832697e-01],\n",
       "       [-2.03490217e-01],\n",
       "       [-2.17099295e-01],\n",
       "       [ 1.24968770e+00],\n",
       "       [ 1.11798754e+00],\n",
       "       [ 8.02660768e-01],\n",
       "       [-1.16649720e-01],\n",
       "       [ 1.28145935e+00],\n",
       "       [ 3.18045871e-01],\n",
       "       [ 1.43808005e-01],\n",
       "       [-1.68788394e-02],\n",
       "       [-4.77858371e-01],\n",
       "       [ 8.92952099e-01],\n",
       "       [-1.29579916e+00],\n",
       "       [-2.07303390e+00],\n",
       "       [ 1.26851301e-01],\n",
       "       [-8.15430216e-01],\n",
       "       [-1.74326085e+00],\n",
       "       [-7.24602235e-01],\n",
       "       [-5.28049200e-01],\n",
       "       [ 2.84227304e-02],\n",
       "       [-1.12368577e+00],\n",
       "       [ 4.20872630e-02],\n",
       "       [-1.72419736e+00],\n",
       "       [ 6.63284621e-01],\n",
       "       [ 1.63806494e-01],\n",
       "       [-2.11845792e-01],\n",
       "       [-1.65715294e+00],\n",
       "       [ 1.60472943e+00],\n",
       "       [-1.30982393e+00],\n",
       "       [ 2.01165593e+00],\n",
       "       [ 9.03623200e-01],\n",
       "       [-9.76353201e-01],\n",
       "       [-9.24067833e-01],\n",
       "       [ 1.18741966e+00],\n",
       "       [ 5.24117407e-01],\n",
       "       [ 5.02480942e-01],\n",
       "       [-1.70346367e+00],\n",
       "       [ 1.29556584e+00],\n",
       "       [-1.36925983e+00],\n",
       "       [ 1.35811022e+00],\n",
       "       [ 1.14772946e+00],\n",
       "       [-1.20091366e+00],\n",
       "       [ 1.08607080e-01],\n",
       "       [-5.05202754e-01],\n",
       "       [ 1.69252109e+00],\n",
       "       [ 1.63464031e-01],\n",
       "       [ 1.01305858e+00],\n",
       "       [ 1.42947316e+00],\n",
       "       [-1.79137722e-01],\n",
       "       [-8.20937870e-02],\n",
       "       [ 4.43834294e-01],\n",
       "       [-3.74656782e-01],\n",
       "       [ 1.80855783e-01],\n",
       "       [-2.08982945e-01],\n",
       "       [-1.37238962e+00],\n",
       "       [-1.13739865e+00],\n",
       "       [-6.57156775e-02],\n",
       "       [-1.87410020e-01],\n",
       "       [ 1.97582295e-01],\n",
       "       [-1.26733531e+00],\n",
       "       [ 4.35585105e-01],\n",
       "       [ 7.87153640e-01],\n",
       "       [ 1.60400592e+00],\n",
       "       [-1.81520977e+00],\n",
       "       [ 7.13536478e-01],\n",
       "       [ 4.53361098e-01],\n",
       "       [ 6.69765236e-02],\n",
       "       [-1.14976007e+00],\n",
       "       [ 1.89655530e-02],\n",
       "       [ 1.19194752e+00],\n",
       "       [ 1.78074475e+00],\n",
       "       [ 7.28312326e-01],\n",
       "       [-1.22978185e+00],\n",
       "       [-1.91025297e+00],\n",
       "       [-2.72888614e-01],\n",
       "       [ 2.41556092e-01],\n",
       "       [-1.50322547e-01],\n",
       "       [ 1.08950659e+00],\n",
       "       [-8.85641046e-01],\n",
       "       [ 8.49059520e-01],\n",
       "       [-4.64451184e-01],\n",
       "       [ 7.38971026e-01],\n",
       "       [ 1.14230638e+00],\n",
       "       [ 7.89295510e-01],\n",
       "       [-1.31893828e+00],\n",
       "       [-1.79527432e+00],\n",
       "       [-1.33675877e+00],\n",
       "       [ 2.30611592e-01],\n",
       "       [ 6.06663513e-01],\n",
       "       [-5.67333661e-01],\n",
       "       [-2.47171090e+00],\n",
       "       [ 4.58378457e-01],\n",
       "       [-6.83219484e-01],\n",
       "       [-1.00054542e+00],\n",
       "       [ 8.86665798e-01],\n",
       "       [ 4.45874199e-01],\n",
       "       [ 4.47611757e-01],\n",
       "       [-3.01578675e-01],\n",
       "       [-1.24055718e+00],\n",
       "       [-9.43359584e-01],\n",
       "       [-1.84981501e-01],\n",
       "       [-1.36735928e-01],\n",
       "       [ 1.03188101e+00],\n",
       "       [-4.87028694e-01],\n",
       "       [ 1.41399161e-02],\n",
       "       [ 2.39106471e-01],\n",
       "       [-1.39659996e+00],\n",
       "       [-8.68304341e-01],\n",
       "       [ 8.53113852e-01],\n",
       "       [ 6.46257346e-01],\n",
       "       [-2.03340360e+00],\n",
       "       [-7.66639179e-01],\n",
       "       [ 1.31051461e+00],\n",
       "       [ 7.42722267e-01],\n",
       "       [ 1.21490855e+00],\n",
       "       [-5.52799978e-01],\n",
       "       [-1.20857818e+00],\n",
       "       [ 5.30889024e-01],\n",
       "       [ 6.85266845e-01],\n",
       "       [-5.38452448e-01],\n",
       "       [-1.64872267e+00],\n",
       "       [ 3.16923901e-01],\n",
       "       [ 2.95930802e+00],\n",
       "       [-3.23487387e-01],\n",
       "       [-1.05459400e+00],\n",
       "       [-8.52497506e-01],\n",
       "       [ 1.94665107e+00],\n",
       "       [-1.89060572e+00],\n",
       "       [-1.41523413e+00],\n",
       "       [ 3.66598805e-01],\n",
       "       [-9.82357059e-01],\n",
       "       [-1.25750691e+00],\n",
       "       [ 3.51589542e-01],\n",
       "       [ 2.36797874e-01],\n",
       "       [ 8.40225782e-02],\n",
       "       [ 9.89533159e-01],\n",
       "       [-3.18015808e-01],\n",
       "       [-1.48890359e+00],\n",
       "       [-1.93013271e-01],\n",
       "       [-2.97181172e-01],\n",
       "       [ 6.59474573e-01],\n",
       "       [-7.33189374e-01],\n",
       "       [-1.68676687e+00],\n",
       "       [ 5.51274456e-03],\n",
       "       [-1.86944351e+00],\n",
       "       [ 5.69887992e-01],\n",
       "       [ 1.57230009e+00],\n",
       "       [-7.64324754e-01],\n",
       "       [ 3.93128429e-01],\n",
       "       [ 1.61544158e+00],\n",
       "       [ 2.54884423e-01],\n",
       "       [ 6.48249274e-01],\n",
       "       [-1.56137592e-01],\n",
       "       [ 9.83921094e-01],\n",
       "       [ 5.43321883e-01],\n",
       "       [-1.70626684e+00],\n",
       "       [ 1.70749673e+00],\n",
       "       [ 9.48408152e-01],\n",
       "       [ 5.32713471e-01],\n",
       "       [ 1.21775298e+00],\n",
       "       [-1.86384694e+00],\n",
       "       [ 3.19289751e-03],\n",
       "       [-5.30052987e-01],\n",
       "       [-1.11581475e+00],\n",
       "       [ 7.97360081e-01],\n",
       "       [-3.49335304e-01],\n",
       "       [ 9.22585124e-01],\n",
       "       [-3.69382104e-01],\n",
       "       [-9.06674748e-04],\n",
       "       [-1.38052943e+00],\n",
       "       [-1.61430292e+00],\n",
       "       [ 5.97898678e-01],\n",
       "       [-6.57271032e-01],\n",
       "       [ 1.10349187e+00],\n",
       "       [-5.42025200e-01],\n",
       "       [ 1.10973177e+00],\n",
       "       [-4.40106168e-01],\n",
       "       [ 3.47954980e-01],\n",
       "       [ 5.73892660e-01],\n",
       "       [ 6.32673014e-01],\n",
       "       [-5.47554122e-01],\n",
       "       [-2.98128536e-01],\n",
       "       [ 7.99326874e-04],\n",
       "       [ 5.96715543e-01],\n",
       "       [ 1.19736789e+00],\n",
       "       [-2.81024791e-01],\n",
       "       [-5.09407977e-01],\n",
       "       [-2.06163056e+00],\n",
       "       [ 3.07834013e-01],\n",
       "       [-1.25938535e-02],\n",
       "       [ 1.11212990e+00],\n",
       "       [ 1.94499272e+00],\n",
       "       [-5.04692470e-02],\n",
       "       [-2.33426204e-01],\n",
       "       [-6.00590480e-01],\n",
       "       [ 9.07442459e-01],\n",
       "       [-2.24394536e+00],\n",
       "       [-4.51892017e-01],\n",
       "       [ 1.22645059e+00],\n",
       "       [ 6.39764758e-01],\n",
       "       [ 2.24840860e-01],\n",
       "       [-1.27910792e-01],\n",
       "       [-4.03666938e-01],\n",
       "       [-4.38567477e-01],\n",
       "       [-5.49950902e-01],\n",
       "       [ 1.11936477e+00],\n",
       "       [-9.31932130e-01],\n",
       "       [-2.16039957e-01],\n",
       "       [ 3.24598396e-01],\n",
       "       [ 2.83976215e-01],\n",
       "       [ 7.69507476e-01],\n",
       "       [ 7.18028201e-01],\n",
       "       [-8.41633726e-01],\n",
       "       [ 1.00999113e+00],\n",
       "       [-1.15804908e+00],\n",
       "       [ 3.54355014e-01],\n",
       "       [ 3.64537436e-01],\n",
       "       [ 4.75833922e-01],\n",
       "       [ 3.64137737e-02],\n",
       "       [ 7.52454803e-01],\n",
       "       [-7.23383473e-01],\n",
       "       [-2.05822529e-01],\n",
       "       [-7.05021706e-01],\n",
       "       [ 4.48118570e-01],\n",
       "       [ 1.26784134e+00],\n",
       "       [-3.78374913e-01],\n",
       "       [-4.25645961e-01],\n",
       "       [-3.08974176e-02],\n",
       "       [-1.21289707e-01],\n",
       "       [ 4.91164324e-01],\n",
       "       [ 1.04443878e+00],\n",
       "       [-8.32400428e-01],\n",
       "       [ 2.16915450e-01],\n",
       "       [ 8.10709120e-01],\n",
       "       [ 4.29058182e-01],\n",
       "       [ 1.75633129e-02],\n",
       "       [ 3.68156345e-01],\n",
       "       [-2.22299781e+00],\n",
       "       [ 9.04738360e-03],\n",
       "       [ 5.76000852e-01],\n",
       "       [-6.92821486e-01],\n",
       "       [ 2.01608991e+00],\n",
       "       [ 1.87137294e+00],\n",
       "       [ 8.93483272e-01],\n",
       "       [-5.10475448e-01],\n",
       "       [-3.91048505e-02],\n",
       "       [-6.90536712e-01],\n",
       "       [ 6.98383618e-02],\n",
       "       [-1.74818982e-01],\n",
       "       [-8.89151684e-01],\n",
       "       [-1.86721814e-02],\n",
       "       [ 1.75158156e+00],\n",
       "       [ 5.02654186e-03],\n",
       "       [-5.23648411e-01],\n",
       "       [ 9.57282801e-02],\n",
       "       [ 7.78987908e-02],\n",
       "       [-5.68281237e-01],\n",
       "       [-7.21316711e-01],\n",
       "       [ 6.62354828e-01],\n",
       "       [ 1.02810935e+00],\n",
       "       [-1.38447507e+00],\n",
       "       [-1.05450187e+00],\n",
       "       [ 2.49900215e-01],\n",
       "       [ 3.54243593e-01],\n",
       "       [ 4.08602807e-01],\n",
       "       [-1.72577330e+00],\n",
       "       [-9.25063938e-01],\n",
       "       [ 8.82690992e-01],\n",
       "       [ 1.30331892e-01],\n",
       "       [-4.15796879e-01],\n",
       "       [-7.06089996e-02],\n",
       "       [-4.43239500e-01],\n",
       "       [ 2.02677570e+00],\n",
       "       [ 9.97545104e-01],\n",
       "       [ 2.63654114e-01],\n",
       "       [ 7.26179670e-01],\n",
       "       [-6.17093896e-02],\n",
       "       [ 4.86659191e-01],\n",
       "       [ 5.28363940e-01],\n",
       "       [ 1.76273243e+00],\n",
       "       [-1.29733441e+00],\n",
       "       [ 1.03836422e+00],\n",
       "       [-7.81840203e-01],\n",
       "       [ 9.03935886e-02],\n",
       "       [-9.19865475e-01],\n",
       "       [ 4.31327020e-01],\n",
       "       [-3.33485111e-01],\n",
       "       [ 3.18555978e-01],\n",
       "       [-1.75587514e-01],\n",
       "       [ 1.24126758e-01],\n",
       "       [-4.66098752e-01],\n",
       "       [ 2.60109598e+00],\n",
       "       [ 4.81131811e-01],\n",
       "       [ 7.68366345e-01],\n",
       "       [ 3.28230370e-01],\n",
       "       [-1.08632662e-01],\n",
       "       [-1.53916026e+00],\n",
       "       [ 6.93686506e-01],\n",
       "       [ 9.31556094e-03],\n",
       "       [-1.32142856e+00],\n",
       "       [ 8.27397474e-01],\n",
       "       [ 4.27004955e-01],\n",
       "       [-3.98831398e-01],\n",
       "       [-3.08453235e-01],\n",
       "       [-8.11445999e-01],\n",
       "       [-3.29914055e-01],\n",
       "       [-4.83337860e-01],\n",
       "       [ 3.33345739e-02],\n",
       "       [ 6.29667064e-01],\n",
       "       [ 3.65157284e-01],\n",
       "       [-1.19706572e+00],\n",
       "       [-7.97216349e-02],\n",
       "       [ 2.75460297e-01],\n",
       "       [ 1.09245961e+00],\n",
       "       [ 6.54204227e-01],\n",
       "       [ 1.34506816e+00],\n",
       "       [ 4.53435803e-01],\n",
       "       [ 4.56744273e-02],\n",
       "       [-1.21045434e+00],\n",
       "       [-2.10239118e-01],\n",
       "       [-1.36705728e+00],\n",
       "       [-8.08249964e-01],\n",
       "       [ 6.82463892e-02],\n",
       "       [-7.00631479e-01],\n",
       "       [-1.80256481e-01],\n",
       "       [ 4.80496675e-01],\n",
       "       [-1.20231377e-01],\n",
       "       [-5.77828266e-01],\n",
       "       [-3.71797935e-01],\n",
       "       [ 1.45703169e-01],\n",
       "       [ 3.36096925e-01],\n",
       "       [ 5.07624613e-01],\n",
       "       [ 4.30951129e-01],\n",
       "       [ 4.10468598e+00],\n",
       "       [ 2.03542748e-01],\n",
       "       [-2.13157788e-01],\n",
       "       [-1.21064038e+00],\n",
       "       [ 1.48589321e+00],\n",
       "       [-7.91310667e-01],\n",
       "       [-1.78893544e-01],\n",
       "       [ 3.95052568e-01],\n",
       "       [ 1.72687727e+00],\n",
       "       [ 6.78419033e-01],\n",
       "       [-4.96012156e-01],\n",
       "       [-1.50490659e-01],\n",
       "       [-3.88900283e-01],\n",
       "       [ 4.91436986e-01],\n",
       "       [ 4.12900596e-02],\n",
       "       [-6.10251926e-01],\n",
       "       [-1.07880081e+00],\n",
       "       [-5.18751653e-01],\n",
       "       [-7.37848680e-01],\n",
       "       [-5.74195893e-01],\n",
       "       [-2.40373695e+00],\n",
       "       [ 4.04046197e-01],\n",
       "       [ 1.20024892e+00],\n",
       "       [-1.57456638e+00],\n",
       "       [-1.19079867e+00],\n",
       "       [-6.91056918e-01],\n",
       "       [-9.44578753e-01],\n",
       "       [ 3.76264252e-01],\n",
       "       [ 1.80809050e+00],\n",
       "       [-9.68907026e-01],\n",
       "       [ 8.74640267e-01],\n",
       "       [-3.53452450e-01],\n",
       "       [-1.52972394e+00],\n",
       "       [-3.79875963e-01],\n",
       "       [ 2.89443081e-01],\n",
       "       [-3.46659852e-01],\n",
       "       [-6.86627581e-01],\n",
       "       [-1.46494636e-01],\n",
       "       [-5.93998876e-01],\n",
       "       [ 9.33921212e-01],\n",
       "       [ 1.33296468e+00],\n",
       "       [ 1.56211219e+00],\n",
       "       [-9.02376602e-01],\n",
       "       [-2.25432057e-01],\n",
       "       [ 1.46134507e+00],\n",
       "       [-1.19532265e+00],\n",
       "       [-9.58038453e-01],\n",
       "       [-2.44810442e+00],\n",
       "       [-6.60178320e-03],\n",
       "       [-1.50274802e+00],\n",
       "       [-7.35971515e-01],\n",
       "       [-4.40857589e-01],\n",
       "       [-5.44811832e-01],\n",
       "       [ 1.44850346e+00],\n",
       "       [-1.28435992e+00],\n",
       "       [ 2.98593603e-01],\n",
       "       [ 7.23280738e-01],\n",
       "       [-1.52821722e+00],\n",
       "       [ 9.16255758e-02],\n",
       "       [-1.66217993e+00],\n",
       "       [-1.09935734e+00],\n",
       "       [ 1.04273831e+00],\n",
       "       [-2.19868789e-01],\n",
       "       [-1.41606598e+00],\n",
       "       [ 8.13200755e-01],\n",
       "       [ 4.80849445e-01],\n",
       "       [ 9.24297863e-01],\n",
       "       [-1.98515746e+00],\n",
       "       [ 5.00589994e-01],\n",
       "       [ 7.47147287e-01],\n",
       "       [-1.09486663e+00],\n",
       "       [-4.41139201e-01],\n",
       "       [ 2.33701518e+00],\n",
       "       [ 1.49283032e+00],\n",
       "       [-5.46568623e-02],\n",
       "       [-1.76896600e-01],\n",
       "       [ 6.01011266e-01],\n",
       "       [-1.37728059e-01],\n",
       "       [ 4.58388500e-01],\n",
       "       [ 1.79536947e-01],\n",
       "       [-9.05263213e-01],\n",
       "       [-7.92834677e-01],\n",
       "       [ 1.36570869e+00],\n",
       "       [ 3.80625831e-01],\n",
       "       [-3.08078138e-01],\n",
       "       [ 1.76451395e+00],\n",
       "       [-7.32545743e-01],\n",
       "       [ 2.90476101e-01],\n",
       "       [-3.05987891e-01],\n",
       "       [ 1.87836338e+00],\n",
       "       [-6.73327223e-01],\n",
       "       [-1.46459022e+00],\n",
       "       [-3.92558124e-01],\n",
       "       [ 5.63663940e-01],\n",
       "       [-1.59037247e+00],\n",
       "       [-1.32440069e+00],\n",
       "       [-7.78954703e-01],\n",
       "       [-1.05746378e+00],\n",
       "       [ 8.67214782e-01],\n",
       "       [ 1.69822156e+00],\n",
       "       [ 4.35173932e-01],\n",
       "       [-1.42239196e+00],\n",
       "       [-1.69478525e-01],\n",
       "       [ 4.07236482e-02],\n",
       "       [-1.19461476e-01],\n",
       "       [ 3.74583209e-01],\n",
       "       [ 2.29400137e-01],\n",
       "       [-1.99753760e+00],\n",
       "       [ 3.30161808e+00],\n",
       "       [-3.97810366e-01],\n",
       "       [-2.43975080e-02],\n",
       "       [-4.41650198e-01],\n",
       "       [-7.33422502e-01],\n",
       "       [-6.26947262e-02],\n",
       "       [ 1.27725375e-01],\n",
       "       [-4.83804944e-01],\n",
       "       [-1.66557943e-01],\n",
       "       [-3.51619117e-01],\n",
       "       [-6.52045466e-01],\n",
       "       [ 1.13344063e-01],\n",
       "       [-1.27037483e+00],\n",
       "       [ 9.95042751e-01],\n",
       "       [-1.17765875e-01],\n",
       "       [-1.41434695e+00],\n",
       "       [-8.56134546e-01],\n",
       "       [-1.56513978e-01],\n",
       "       [ 3.72049740e-02],\n",
       "       [ 1.02619869e+00],\n",
       "       [ 6.08165028e-01],\n",
       "       [-2.36807261e-01],\n",
       "       [ 7.08940508e-01],\n",
       "       [-3.05611418e-01],\n",
       "       [-5.44617734e-01],\n",
       "       [ 9.68550584e-01],\n",
       "       [ 5.19553591e-01],\n",
       "       [ 6.78808684e-01],\n",
       "       [ 6.61748072e-01],\n",
       "       [-1.11464100e+00],\n",
       "       [ 3.00456547e-01],\n",
       "       [-5.33966181e-01],\n",
       "       [ 1.07798154e+00],\n",
       "       [-1.20227505e+00],\n",
       "       [-1.50522666e+00],\n",
       "       [ 4.23570796e-01],\n",
       "       [ 1.89488218e+00],\n",
       "       [-2.07526270e-01],\n",
       "       [ 1.09756990e-01],\n",
       "       [ 9.27671435e-03],\n",
       "       [-1.18196794e+00],\n",
       "       [ 6.00240383e-01],\n",
       "       [-9.19581559e-01],\n",
       "       [-8.46771896e-01],\n",
       "       [ 5.55778765e-01],\n",
       "       [ 5.98631002e-01],\n",
       "       [ 1.06804005e+00],\n",
       "       [-3.23510443e-01],\n",
       "       [ 2.68209744e+00],\n",
       "       [-1.42190795e+00],\n",
       "       [-2.77308011e-01],\n",
       "       [ 1.16907119e+00],\n",
       "       [ 6.96783692e-01],\n",
       "       [-2.46310560e-02],\n",
       "       [ 1.83061484e+00],\n",
       "       [ 3.17322816e-01],\n",
       "       [ 1.07515618e+00],\n",
       "       [-6.04025209e-01],\n",
       "       [ 3.20871027e-01],\n",
       "       [-1.11952282e+00],\n",
       "       [ 9.21589498e-01],\n",
       "       [-9.66027375e-01],\n",
       "       [-9.98000308e-01],\n",
       "       [-2.70016266e+00],\n",
       "       [-1.53887547e+00],\n",
       "       [-1.69757635e-02],\n",
       "       [-3.56827900e-01],\n",
       "       [-3.21313828e-01],\n",
       "       [ 4.66420363e-01],\n",
       "       [ 5.96807399e-01],\n",
       "       [-7.63217756e-01],\n",
       "       [-1.49655757e+00],\n",
       "       [ 1.70986629e-01],\n",
       "       [ 2.07640247e+00],\n",
       "       [ 7.57297424e-01],\n",
       "       [-7.13327351e-02],\n",
       "       [-1.07462711e+00],\n",
       "       [-8.51186141e-01],\n",
       "       [ 4.48478959e-01],\n",
       "       [ 5.68389492e-01],\n",
       "       [ 1.45796968e-01],\n",
       "       [-5.41872382e-02],\n",
       "       [ 1.59428534e+00],\n",
       "       [ 6.19923564e-01],\n",
       "       [ 4.63729885e-01],\n",
       "       [ 9.17520488e-01],\n",
       "       [ 6.24808934e-01],\n",
       "       [-6.18315656e-01],\n",
       "       [ 1.25596455e+00],\n",
       "       [ 8.30057848e-01],\n",
       "       [ 1.02016481e+00],\n",
       "       [-1.70617749e-02],\n",
       "       [-4.50675206e-01],\n",
       "       [ 3.93025901e-01],\n",
       "       [-3.98780996e-01],\n",
       "       [-1.91503029e+00],\n",
       "       [ 2.74485750e-01],\n",
       "       [ 9.18794411e-02],\n",
       "       [-2.12165911e-01],\n",
       "       [-1.18714287e+00],\n",
       "       [ 1.46764502e-01],\n",
       "       [-3.31637272e-01],\n",
       "       [ 1.45291013e+00],\n",
       "       [ 1.70692595e+00],\n",
       "       [ 3.82230212e-01],\n",
       "       [-7.20791113e-01],\n",
       "       [-5.54888513e-01],\n",
       "       [-1.32077251e+00],\n",
       "       [-2.14818338e-02],\n",
       "       [-5.03404683e-01],\n",
       "       [ 4.17742392e-01],\n",
       "       [-8.84675140e-01],\n",
       "       [-2.18292752e-01],\n",
       "       [ 2.35714841e+00],\n",
       "       [ 1.19585120e+00],\n",
       "       [-8.91168769e-01],\n",
       "       [-2.48191426e-01],\n",
       "       [-6.13056577e-01],\n",
       "       [-1.21834715e-03],\n",
       "       [ 1.18367865e+00],\n",
       "       [-6.87717726e-01],\n",
       "       [-1.28502740e+00],\n",
       "       [ 8.80787382e-01],\n",
       "       [ 6.84352511e-01],\n",
       "       [ 4.95390959e-01],\n",
       "       [ 5.42014170e-01],\n",
       "       [ 1.42608301e+00],\n",
       "       [ 3.85716350e-01],\n",
       "       [ 1.03383729e+00],\n",
       "       [-8.00500154e-01],\n",
       "       [ 4.41842006e-01],\n",
       "       [ 2.64588794e-01],\n",
       "       [ 1.77156094e+00],\n",
       "       [-9.77107543e-01],\n",
       "       [-1.44401629e-01],\n",
       "       [-1.70195987e+00],\n",
       "       [-1.39796898e+00],\n",
       "       [ 1.82055219e+00],\n",
       "       [-7.45160033e-01],\n",
       "       [ 2.38865622e+00],\n",
       "       [ 1.15038331e+00],\n",
       "       [-5.90343845e-01],\n",
       "       [-5.45333426e-01],\n",
       "       [-6.38964411e-01],\n",
       "       [-3.11309031e-01],\n",
       "       [ 5.61301624e-01],\n",
       "       [-1.64000958e+00],\n",
       "       [ 5.19289117e-01],\n",
       "       [ 2.52922052e-01],\n",
       "       [-3.53816437e+00],\n",
       "       [-1.12705735e+00],\n",
       "       [-3.57599624e-01],\n",
       "       [ 9.48733142e-01],\n",
       "       [-9.21385408e-01],\n",
       "       [ 5.98014637e-01],\n",
       "       [ 2.28163340e-01],\n",
       "       [-1.81762558e-01],\n",
       "       [ 2.54642224e-01],\n",
       "       [ 8.55022380e-01],\n",
       "       [-8.99259498e-01],\n",
       "       [ 3.03200896e-02],\n",
       "       [ 2.93574021e-01],\n",
       "       [-5.98932960e-01],\n",
       "       [ 1.39790192e+00],\n",
       "       [ 1.25183453e+00],\n",
       "       [-1.39561285e+00],\n",
       "       [-7.59286775e-01],\n",
       "       [ 2.29253472e+00],\n",
       "       [ 1.19837286e+00],\n",
       "       [-7.46481632e-01],\n",
       "       [ 4.89036621e-01],\n",
       "       [ 2.97879903e-01],\n",
       "       [-1.46187481e+00],\n",
       "       [ 7.68522083e-01],\n",
       "       [ 7.54494828e-01],\n",
       "       [-8.52736996e-01],\n",
       "       [ 2.56981593e-03],\n",
       "       [ 5.39905940e-01],\n",
       "       [-7.02246766e-01],\n",
       "       [ 2.15765129e+00],\n",
       "       [-2.04290933e-01],\n",
       "       [ 1.92793589e+00],\n",
       "       [-3.45127894e-01],\n",
       "       [-6.22488383e-01],\n",
       "       [ 2.84898864e+00],\n",
       "       [-4.73286960e-02],\n",
       "       [ 1.06259361e+00],\n",
       "       [ 2.84074533e-01],\n",
       "       [-4.20862394e-01],\n",
       "       [ 1.48324322e+00],\n",
       "       [ 3.70043445e-01],\n",
       "       [-5.35928917e-01],\n",
       "       [ 4.61486858e-01],\n",
       "       [-7.67534328e-01],\n",
       "       [-1.39539200e+00],\n",
       "       [-8.45157480e-01],\n",
       "       [-2.12359938e+00],\n",
       "       [ 1.07198018e+00],\n",
       "       [ 1.13915489e+00],\n",
       "       [-2.47023976e-01],\n",
       "       [ 4.33357741e-01],\n",
       "       [-1.54857485e+00],\n",
       "       [-8.25801278e-01],\n",
       "       [ 4.49729056e-01],\n",
       "       [ 6.86389520e-01],\n",
       "       [ 4.57938961e-01],\n",
       "       [-1.47251352e+00],\n",
       "       [-8.70103435e-01],\n",
       "       [ 6.75052565e-01],\n",
       "       [-8.06591905e-01],\n",
       "       [ 8.73050622e-03],\n",
       "       [ 6.74233529e-01],\n",
       "       [ 8.01490500e-01],\n",
       "       [-1.15027992e+00],\n",
       "       [ 3.10427684e-01],\n",
       "       [ 5.07429778e-01],\n",
       "       [ 1.25672186e-01],\n",
       "       [-2.60221101e-01],\n",
       "       [ 7.45659416e-01],\n",
       "       [-5.28280932e-01],\n",
       "       [ 3.31545118e-01],\n",
       "       [ 1.68126350e+00],\n",
       "       [-6.09934168e-01],\n",
       "       [-2.47876977e-01],\n",
       "       [ 4.18387242e-01],\n",
       "       [ 9.62010688e-01],\n",
       "       [-2.20777965e+00],\n",
       "       [ 1.20197005e+00],\n",
       "       [-1.83072112e+00],\n",
       "       [-1.18668558e+00],\n",
       "       [ 3.07456965e-01],\n",
       "       [-1.13679218e+00],\n",
       "       [-1.39559121e+00],\n",
       "       [ 1.57920132e+00],\n",
       "       [-1.65246541e+00],\n",
       "       [-1.35153345e-01],\n",
       "       [ 5.78855510e-01],\n",
       "       [ 1.37906583e+00],\n",
       "       [ 6.17807673e-02],\n",
       "       [-1.74954069e+00],\n",
       "       [-5.10382637e-01],\n",
       "       [-1.78944741e-01],\n",
       "       [ 5.83776475e-01],\n",
       "       [ 4.32779631e-01],\n",
       "       [-5.52258332e-01],\n",
       "       [ 7.64040139e-01],\n",
       "       [ 1.12968008e+00],\n",
       "       [ 8.49412263e-01],\n",
       "       [ 9.73746815e-02],\n",
       "       [ 1.06526903e+00],\n",
       "       [-5.99410559e-01],\n",
       "       [-7.35545201e-01],\n",
       "       [-1.49457090e+00],\n",
       "       [ 9.90508340e-02],\n",
       "       [ 1.65319426e+00],\n",
       "       [ 9.41403300e-01],\n",
       "       [ 1.46138041e-01],\n",
       "       [ 7.55808908e-01],\n",
       "       [ 1.63745295e+00],\n",
       "       [-2.05607259e-01],\n",
       "       [ 4.28241565e-01],\n",
       "       [ 3.03788800e-01],\n",
       "       [ 2.11959025e+00],\n",
       "       [ 6.62734135e-01],\n",
       "       [ 9.67565737e-01],\n",
       "       [-1.01802881e+00],\n",
       "       [-2.12662189e-01],\n",
       "       [ 1.01579441e+00],\n",
       "       [ 7.95650916e-01],\n",
       "       [ 1.42212582e+00],\n",
       "       [-4.62258815e-01],\n",
       "       [-4.08175899e-01],\n",
       "       [ 9.68027419e-01],\n",
       "       [-6.53816711e-01],\n",
       "       [ 1.52189108e+00],\n",
       "       [ 2.77023758e-01],\n",
       "       [ 1.29524065e-01],\n",
       "       [-3.67547878e-01],\n",
       "       [-4.80200008e-02],\n",
       "       [-2.39717655e-02],\n",
       "       [ 1.32961341e-01],\n",
       "       [-1.65213963e-01],\n",
       "       [ 8.04576009e-02],\n",
       "       [-4.11786018e-01],\n",
       "       [ 9.90418395e-02],\n",
       "       [ 1.42057416e+00],\n",
       "       [-6.96612761e-01],\n",
       "       [ 9.66291726e-01],\n",
       "       [ 5.81122822e-01],\n",
       "       [-1.05036842e+00],\n",
       "       [ 3.46274309e-01],\n",
       "       [-4.60551637e-01],\n",
       "       [ 5.09980225e-01],\n",
       "       [-7.11335055e-01],\n",
       "       [-1.37410737e+00],\n",
       "       [-4.88183755e-01],\n",
       "       [ 5.61554207e-01],\n",
       "       [ 5.01370220e-01],\n",
       "       [-3.01771428e-01],\n",
       "       [-9.20617082e-01],\n",
       "       [-7.23197452e-01],\n",
       "       [ 8.14038874e-01],\n",
       "       [-1.39550481e+00],\n",
       "       [ 2.14077895e+00],\n",
       "       [ 3.36200643e-01],\n",
       "       [-4.59232783e-01],\n",
       "       [-5.81214174e-01],\n",
       "       [-1.52160003e+00],\n",
       "       [ 1.52647319e+00],\n",
       "       [ 1.29626511e+00],\n",
       "       [ 1.37180891e+00],\n",
       "       [ 3.88474998e-01],\n",
       "       [-1.05844103e-01],\n",
       "       [ 9.42845687e-02],\n",
       "       [-1.35987366e-01],\n",
       "       [-1.28603074e-01],\n",
       "       [-2.15104105e-01],\n",
       "       [-3.96838960e-02],\n",
       "       [ 1.47923126e+00],\n",
       "       [ 6.89734449e-01],\n",
       "       [ 3.34476454e-01],\n",
       "       [-1.12196871e-03],\n",
       "       [-1.11973696e+00],\n",
       "       [ 2.30096001e+00],\n",
       "       [-1.63538265e+00],\n",
       "       [-1.10915426e-01],\n",
       "       [-6.59203305e-01],\n",
       "       [-6.74376428e-01],\n",
       "       [ 1.38109208e+00],\n",
       "       [ 4.83899649e-02],\n",
       "       [-3.81754563e-01],\n",
       "       [-8.11262484e-01],\n",
       "       [ 1.66483732e-01],\n",
       "       [-7.22126977e-01],\n",
       "       [ 9.75173235e-01],\n",
       "       [-9.07603384e-01],\n",
       "       [ 4.17380319e-01],\n",
       "       [-5.84628508e-01],\n",
       "       [ 2.23542086e-01],\n",
       "       [ 2.51119740e+00],\n",
       "       [-3.36461983e-01],\n",
       "       [-3.68875475e-01],\n",
       "       [-2.34374203e+00],\n",
       "       [ 4.70784804e-01],\n",
       "       [ 1.07298803e+00],\n",
       "       [-4.24905166e-01],\n",
       "       [ 8.87220063e-01],\n",
       "       [-4.54562774e-01],\n",
       "       [ 9.89834643e-02],\n",
       "       [ 3.39258245e-01],\n",
       "       [-1.23613679e+00],\n",
       "       [ 3.59403697e-01],\n",
       "       [ 2.96346429e-01],\n",
       "       [-1.38269939e+00],\n",
       "       [-5.47823314e-01],\n",
       "       [-5.12872493e-01],\n",
       "       [-1.45993042e-01],\n",
       "       [-2.17469965e-01],\n",
       "       [ 2.45638629e-01],\n",
       "       [ 9.69800626e-02],\n",
       "       [ 9.76045431e-01],\n",
       "       [ 5.16790870e-02],\n",
       "       [-1.66708255e-01],\n",
       "       [ 4.36798075e-02],\n",
       "       [-1.72605793e+00],\n",
       "       [-3.26634189e-01],\n",
       "       [ 1.56733776e+00],\n",
       "       [ 6.19345514e-01],\n",
       "       [-4.79446420e-01],\n",
       "       [ 7.41085085e-01],\n",
       "       [-2.49098914e-01],\n",
       "       [ 6.36598096e-01],\n",
       "       [ 1.72367995e+00],\n",
       "       [ 4.85083496e-01],\n",
       "       [ 4.31164863e-01],\n",
       "       [-3.55812780e-01],\n",
       "       [ 3.78823047e-01],\n",
       "       [-1.29512355e+00],\n",
       "       [-6.32914004e-02],\n",
       "       [ 7.86553641e-01],\n",
       "       [ 6.65464235e-03],\n",
       "       [ 1.64603187e+00],\n",
       "       [ 8.33852706e-01],\n",
       "       [ 2.67784215e-01],\n",
       "       [-1.08004341e+00],\n",
       "       [-9.30878056e-01],\n",
       "       [-6.04841295e-01],\n",
       "       [ 1.04873208e-01],\n",
       "       [-1.64369313e+00],\n",
       "       [ 1.09719828e+00],\n",
       "       [ 7.76493440e-01],\n",
       "       [ 1.96188642e+00],\n",
       "       [ 3.73206965e-01],\n",
       "       [-6.90090123e-01],\n",
       "       [ 4.40653577e-01],\n",
       "       [-8.45688465e-01],\n",
       "       [-9.85183969e-01],\n",
       "       [-2.52840264e-01],\n",
       "       [ 7.00799086e-01],\n",
       "       [ 5.44747267e-02],\n",
       "       [-3.15757182e-01],\n",
       "       [-5.85713095e-01],\n",
       "       [-9.92368384e-01],\n",
       "       [-6.33429986e-02],\n",
       "       [-3.86390199e-01]])"
      ]
     },
     "execution_count": 5,
     "metadata": {},
     "output_type": "execute_result"
    }
   ],
   "source": [
    "r.reshape(-1,1)"
   ]
  },
  {
   "cell_type": "code",
   "execution_count": 58,
   "metadata": {},
   "outputs": [],
   "source": [
    "#zadanie8\n",
    "gen.restart()\n",
    "r1=gen.normal(101)\n",
    "r2=gen.normal(101)\n",
    "r1[0]=0\n",
    "r2[0]=0\n",
    "t=np.arange(1,101,1)\n",
    "s1=np.cumsum(r1)\n",
    "s2=np.cumsum(r2)"
   ]
  },
  {
   "cell_type": "code",
   "execution_count": 63,
   "metadata": {},
   "outputs": [
    {
     "data": {
      "text/plain": [
       "[<matplotlib.lines.Line2D at 0x7f3d93c3acd0>]"
      ]
     },
     "execution_count": 63,
     "metadata": {},
     "output_type": "execute_result"
    },
    {
     "data": {
      "image/png": "[encoded data removed]",
      "text/plain": [
       "<Figure size 432x288 with 1 Axes>"
      ]
     },
     "metadata": {
      "needs_background": "light"
     },
     "output_type": "display_data"
    }
   ],
   "source": [
    "plt.plot(s1,s2,marker=\"o\")\n",
    "plt.plot(0,0,marker=\"o\",c=\"red\")\n",
    "plt.plot(s1[-1],s2[-1],marker=\"o\",c=\"red\")"
   ]
  },
  {
   "cell_type": "code",
   "execution_count": 40,
   "metadata": {},
   "outputs": [
    {
     "data": {
      "text/plain": [
       "4.104685976756532"
      ]
     },
     "execution_count": 40,
     "metadata": {},
     "output_type": "execute_result"
    }
   ],
   "source": [
    "#zadanie9\n",
    "#jest procesem wienera bo p**2 + 1-p**2 = 1\n",
    "#wtedy V_t-V_s ~ N(0,t-s)"
   ]
  },
  {
   "cell_type": "markdown",
   "metadata": {},
   "source": [
    "$$Cov(V^1,V^2)=E(W_1*(p*W_1 + sqrt(1-p^2)*W_2)/sqrt(t)*sqrt(t)=p*EW_1^2/t=p$$"
   ]
  },
  {
   "cell_type": "code",
   "execution_count": null,
   "metadata": {},
   "outputs": [],
   "source": [
    "#wiec kowariancja jest faktycznie p"
   ]
  },
  {
   "cell_type": "code",
   "execution_count": 72,
   "metadata": {},
   "outputs": [],
   "source": [
    "gen.restart()\n",
    "r1=gen.normal(101)\n",
    "r2=gen.normal(101)\n",
    "r1[0]=0\n",
    "r2[0]=0\n",
    "t=np.arange(1,101,1)\n",
    "s1=np.cumsum(r1)\n",
    "s2=np.cumsum(r2)\n",
    "p=0.9\n",
    "v1=s1\n",
    "v2=p*s1+np.sqrt(1-p**2)*s2\n"
   ]
  },
  {
   "cell_type": "code",
   "execution_count": 73,
   "metadata": {},
   "outputs": [
    {
     "data": {
      "text/plain": [
       "[<matplotlib.lines.Line2D at 0x7f3d93a3a110>]"
      ]
     },
     "execution_count": 73,
     "metadata": {},
     "output_type": "execute_result"
    },
    {
     "data": {
      "image/png": "[encoded data removed]",
      "text/plain": [
       "<Figure size 432x288 with 1 Axes>"
      ]
     },
     "metadata": {
      "needs_background": "light"
     },
     "output_type": "display_data"
    }
   ],
   "source": [
    "plt.plot(v1,v2,marker=\"o\")\n",
    "plt.plot(0,0,marker=\"o\",c=\"red\")\n",
    "plt.plot(v1[-1],v2[-1],marker=\"o\",c=\"red\")"
   ]
  },
  {
   "cell_type": "code",
   "execution_count": 197,
   "metadata": {},
   "outputs": [],
   "source": [
    "#zadanie 10\n",
    "gen.restart()\n",
    "r=gen.normal(1000000)\n",
    "t=np.arange(3,10003,1)\n",
    "#s=np.cumsum(r)"
   ]
  },
  {
   "cell_type": "code",
   "execution_count": 198,
   "metadata": {},
   "outputs": [],
   "source": [
    "r=r.reshape(100,-1)"
   ]
  },
  {
   "cell_type": "code",
   "execution_count": 199,
   "metadata": {},
   "outputs": [],
   "source": [
    "s=np.cumsum(r,axis=1)"
   ]
  },
  {
   "cell_type": "code",
   "execution_count": 200,
   "metadata": {},
   "outputs": [],
   "source": [
    "def iter_log(x):\n",
    "    return np.sqrt(2*x*np.log(np.log(x)))"
   ]
  },
  {
   "cell_type": "code",
   "execution_count": 201,
   "metadata": {},
   "outputs": [],
   "source": [
    "l=iter_log(t)"
   ]
  },
  {
   "cell_type": "code",
   "execution_count": 208,
   "metadata": {},
   "outputs": [
    {
     "data": {
      "image/png": "[encoded data removed]",
      "text/plain": [
       "<Figure size 432x288 with 1 Axes>"
      ]
     },
     "metadata": {
      "needs_background": "light"
     },
     "output_type": "display_data"
    }
   ],
   "source": [
    "plt.plot(s.T)\n",
    "plt.plot(t,l,linewidth=5,c=\"black\")\n",
    "plt.plot(t,-l,linewidth=5,c=\"black\")\n",
    "plt.xscale('log')"
   ]
  }
 ],
 "metadata": {
  "kernelspec": {
   "display_name": "Python 3",
   "language": "python",
   "name": "python3"
  },
  "language_info": {
   "codemirror_mode": {
    "name": "ipython",
    "version": 3
   },
   "file_extension": ".py",
   "mimetype": "text/x-python",
   "name": "python",
   "nbconvert_exporter": "python",
   "pygments_lexer": "ipython3",
   "version": "3.7.4"
  }
 },
 "nbformat": 4,
 "nbformat_minor": 2
}
